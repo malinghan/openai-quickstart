{
 "cells": [
  {
   "attachments": {},
   "cell_type": "markdown",
   "id": "69cb775b-eb44-4e95-83c2-c087947d7ae4",
   "metadata": {},
   "source": [
    "# LangChain 核心模块 - Chat Model 和 Chat Prompt Template\n",
    "\n",
    "希望通过此示例，让大家深入理解 LangChain 的聊天模型。简而言之：\n",
    "- `Chat Model` 不止是一个用于聊天对话的模型抽象，更重要的是提供了`多角色`提示能力（System,AI,Human,Function)。\n",
    "- `Chat Prompt Template` 则为开发者提供了便捷维护`不同角色`的`提示模板`与`消息记录`的接口。\n",
    "\n",
    "![](../../jupyter/images/model_io.jpeg)\n"
   ]
  },
  {
   "cell_type": "code",
   "id": "2219b200-bb76-45b7-bb88-0525667c1b31",
   "metadata": {
    "ExecuteTime": {
     "end_time": "2024-08-21T14:05:19.329577Z",
     "start_time": "2024-08-21T14:05:19.327472Z"
    }
   },
   "source": [],
   "outputs": [],
   "execution_count": null
  },
  {
   "attachments": {},
   "cell_type": "markdown",
   "id": "8a376a3d-ce1f-4aab-9a2a-6224fce2edfd",
   "metadata": {},
   "source": [
    "## 温故：LangChain Chat Model 使用方法和流程\n",
    "\n",
    "在最终调用 `Chat Model` 时，一定是直接传入`LangChain Schema Messages（消息记录）` \n",
    "\n",
    "```python\n",
    "from langchain.chat_models import ChatOpenAI\n",
    "chat_model = ChatOpenAI(model_name=\"gpt-3.5-turbo\")\n",
    "\n",
    "from langchain.schema import (\n",
    "    AIMessage,\n",
    "    HumanMessage,\n",
    "    SystemMessage\n",
    ")\n",
    "\n",
    "messages = [SystemMessage(content=\"You are a helpful assistant.\"),\n",
    " HumanMessage(content=\"Who won the world series in 2020?\"),\n",
    " AIMessage(content=\"The Los Angeles Dodgers won the World Series in 2020.\"), \n",
    " HumanMessage(content=\"Where was it played?\")]\n",
    "\n",
    "print(messages)\n",
    "\n",
    "chat_model(messages)\n",
    "```\n",
    "\n",
    "打印 messages 输出结果：\n",
    "```\n",
    "[\n",
    "    SystemMessage(content=\"You are a helpful assistant.\", additional_kwargs={}),\n",
    "    HumanMessage(\n",
    "        content=\"Who won the world series in 2020?\", additional_kwargs={}, example=False\n",
    "    ),\n",
    "    AIMessage(\n",
    "        content=\"The Los Angeles Dodgers won the World Series in 2020.\",\n",
    "        additional_kwargs={},\n",
    "        example=False,\n",
    "    ),\n",
    "    HumanMessage(content=\"Where was it played?\", additional_kwargs={}, example=False),\n",
    "]\n",
    "```\n",
    "\n",
    "调用 chat_model(messages) 返回结果：\n",
    "\n",
    "```\n",
    "AIMessage(\n",
    "    content=\"The 2020 World Series was played at Globe Life Field in Arlington, Texas.\",\n",
    "    additional_kwargs={},\n",
    "    example=False,\n",
    ")\n",
    "\n",
    "```"
   ]
  },
  {
   "cell_type": "markdown",
   "id": "44337cac-457c-4971-b382-498dec3e3c24",
   "metadata": {},
   "source": [
    "## 使用 System 和 Human 角色的提示模板构造 ChatPromptTemplate\n",
    "\n",
    "使用 `ChatPromptTemplate.from_messages` 方法，类似使用和维护`messages`的方式，构造 `chat_prompt_template`"
   ]
  },
  {
   "cell_type": "code",
   "id": "0e4d76a2-1ccb-421a-9be2-1a4a6faa3b8b",
   "metadata": {
    "ExecuteTime": {
     "end_time": "2024-08-21T14:09:34.175825Z",
     "start_time": "2024-08-21T14:09:33.797097Z"
    }
   },
   "source": [
    "from langchain.schema import AIMessage, HumanMessage, SystemMessage\n",
    "# 导入 Chat Model 即将使用的 Prompt Templates\n",
    "from langchain.prompts.chat import (\n",
    "    ChatPromptTemplate,\n",
    "    SystemMessagePromptTemplate,\n",
    "    AIMessagePromptTemplate,\n",
    "    HumanMessagePromptTemplate,\n",
    ")\n",
    "\n",
    "# 翻译任务指令始终由 System 角色承担\n",
    "template = (\n",
    "    \"\"\"You are a translation expert, proficient in various languages. \\n\n",
    "    Translates English to Chinese.\"\"\"\n",
    ")\n",
    "system_message_prompt = SystemMessagePromptTemplate.from_template(template)"
   ],
   "outputs": [],
   "execution_count": 1
  },
  {
   "cell_type": "code",
   "id": "596d74c4-0fa5-4308-9920-c8002a3ee0c7",
   "metadata": {
    "ExecuteTime": {
     "end_time": "2024-08-21T14:09:39.692897Z",
     "start_time": "2024-08-21T14:09:39.687704Z"
    }
   },
   "source": [
    "print(system_message_prompt)"
   ],
   "outputs": [
    {
     "name": "stdout",
     "output_type": "stream",
     "text": [
      "prompt=PromptTemplate(input_variables=[], template='You are a translation expert, proficient in various languages. \\n\\n    Translates English to Chinese.')\n"
     ]
    }
   ],
   "execution_count": 2
  },
  {
   "cell_type": "code",
   "id": "d2a8fddd-31d7-493f-94a1-4c1ec4608de6",
   "metadata": {
    "ExecuteTime": {
     "end_time": "2024-08-21T14:09:49.790804Z",
     "start_time": "2024-08-21T14:09:49.783839Z"
    }
   },
   "source": [
    "# 待翻译文本由 Human 角色输入\n",
    "human_template = \"{text}\"\n",
    "human_message_prompt = HumanMessagePromptTemplate.from_template(human_template)"
   ],
   "outputs": [],
   "execution_count": 3
  },
  {
   "cell_type": "code",
   "id": "8922d062-00a9-48dd-b1e2-ed2d2f61a9ad",
   "metadata": {
    "ExecuteTime": {
     "end_time": "2024-08-21T14:09:55.790695Z",
     "start_time": "2024-08-21T14:09:55.783560Z"
    }
   },
   "source": [
    "print(human_message_prompt)"
   ],
   "outputs": [
    {
     "name": "stdout",
     "output_type": "stream",
     "text": [
      "prompt=PromptTemplate(input_variables=['text'], template='{text}')\n"
     ]
    }
   ],
   "execution_count": 4
  },
  {
   "cell_type": "code",
   "id": "125cef74-88a0-4775-a513-06692592d801",
   "metadata": {
    "ExecuteTime": {
     "end_time": "2024-08-21T14:10:02.820910Z",
     "start_time": "2024-08-21T14:10:02.813434Z"
    }
   },
   "source": [
    "# 使用 System 和 Human 角色的提示模板构造 ChatPromptTemplate\n",
    "chat_prompt_template = ChatPromptTemplate.from_messages(\n",
    "    [system_message_prompt, human_message_prompt]\n",
    ")"
   ],
   "outputs": [],
   "execution_count": 5
  },
  {
   "cell_type": "code",
   "id": "d16f01ad-b7c9-4a0a-af8f-698f55d4762e",
   "metadata": {
    "ExecuteTime": {
     "end_time": "2024-08-21T14:10:04.432639Z",
     "start_time": "2024-08-21T14:10:04.429625Z"
    }
   },
   "source": [
    "print(chat_prompt_template)"
   ],
   "outputs": [
    {
     "name": "stdout",
     "output_type": "stream",
     "text": [
      "input_variables=['text'] messages=[SystemMessagePromptTemplate(prompt=PromptTemplate(input_variables=[], template='You are a translation expert, proficient in various languages. \\n\\n    Translates English to Chinese.')), HumanMessagePromptTemplate(prompt=PromptTemplate(input_variables=['text'], template='{text}'))]\n"
     ]
    }
   ],
   "execution_count": 6
  },
  {
   "cell_type": "markdown",
   "id": "406a2804-96f5-4470-9464-a96572e31149",
   "metadata": {},
   "source": [
    "### 规范化 Python 复杂对象\n",
    "\n",
    "- 使用在线工具 [Python Formatter](https://codebeautify.org/python-formatter-beautifier) \n",
    "- 规范化 `chat_prompt_template`后再查看\n",
    "- 注意：不要同事输入多个复杂对象\n",
    "\n",
    "```json\n",
    "messages = [\n",
    "    SystemMessagePromptTemplate(\n",
    "        prompt=PromptTemplate(\n",
    "            input_variables=[],\n",
    "            output_parser=None,\n",
    "            partial_variables={},\n",
    "            template=\"You are a translation expert, proficient in various languages. \\n\\n    Translates English to Chinese.\",\n",
    "            template_format=\"f-string\",\n",
    "            validate_template=True,\n",
    "        ),\n",
    "        additional_kwargs={},\n",
    "    ),\n",
    "    HumanMessagePromptTemplate(\n",
    "        prompt=PromptTemplate(\n",
    "            input_variables=[\"text\"],\n",
    "            output_parser=None,\n",
    "            partial_variables={},\n",
    "            template=\"{text}\",\n",
    "            template_format=\"f-string\",\n",
    "            validate_template=True,\n",
    "        ),\n",
    "        additional_kwargs={},\n",
    "    ),\n",
    "]\n",
    "\n",
    "```"
   ]
  },
  {
   "cell_type": "code",
   "id": "b5cf9238-9497-46c3-961f-860e797fcece",
   "metadata": {
    "ExecuteTime": {
     "end_time": "2024-08-21T14:10:29.760511Z",
     "start_time": "2024-08-21T14:10:29.729923Z"
    }
   },
   "source": [
    "# 生成用于翻译的 Chat Prompt\n",
    "chat_prompt_template.format_prompt(text=\"I love programming.\")"
   ],
   "outputs": [
    {
     "data": {
      "text/plain": [
       "ChatPromptValue(messages=[SystemMessage(content='You are a translation expert, proficient in various languages. \\n\\n    Translates English to Chinese.'), HumanMessage(content='I love programming.')])"
      ]
     },
     "execution_count": 7,
     "metadata": {},
     "output_type": "execute_result"
    }
   ],
   "execution_count": 7
  },
  {
   "cell_type": "markdown",
   "id": "d3a39ff5-2720-40db-80f4-913c8c622bfa",
   "metadata": {},
   "source": [
    "## 使用 chat_prompt_template.to_messages 方法生成 Messages"
   ]
  },
  {
   "cell_type": "code",
   "id": "a21508c5-4b13-4d0e-aa67-c56d554d2626",
   "metadata": {
    "ExecuteTime": {
     "end_time": "2024-08-21T14:10:41.040161Z",
     "start_time": "2024-08-21T14:10:41.033422Z"
    }
   },
   "source": [
    "# 生成聊天模型真正可用的消息记录 Messages\n",
    "chat_prompt = chat_prompt_template.format_prompt(text=\"I love programming.\").to_messages()"
   ],
   "outputs": [],
   "execution_count": 8
  },
  {
   "cell_type": "code",
   "id": "a158a289-e738-45e8-b440-3f857a708e57",
   "metadata": {
    "ExecuteTime": {
     "end_time": "2024-08-21T14:10:44.742121Z",
     "start_time": "2024-08-21T14:10:44.738487Z"
    }
   },
   "source": [
    "chat_prompt"
   ],
   "outputs": [
    {
     "data": {
      "text/plain": [
       "[SystemMessage(content='You are a translation expert, proficient in various languages. \\n\\n    Translates English to Chinese.'),\n",
       " HumanMessage(content='I love programming.')]"
      ]
     },
     "execution_count": 9,
     "metadata": {},
     "output_type": "execute_result"
    }
   ],
   "execution_count": 9
  },
  {
   "cell_type": "markdown",
   "id": "56e2fa43-ba3c-401f-bba0-6bb27050a363",
   "metadata": {},
   "source": [
    "\n",
    "## 使用 Chat Model（GPT-3.5-turbo）实际执行翻译任务\n"
   ]
  },
  {
   "metadata": {
    "ExecuteTime": {
     "end_time": "2024-08-21T14:11:48.619042Z",
     "start_time": "2024-08-21T14:11:47.718663Z"
    }
   },
   "cell_type": "code",
   "source": "!pip list",
   "id": "9e85255de00e4a2b",
   "outputs": [
    {
     "name": "stdout",
     "output_type": "stream",
     "text": [
      "Package                   Version\r\n",
      "------------------------- -----------\r\n",
      "aiohappyeyeballs          2.4.0\r\n",
      "aiohttp                   3.10.5\r\n",
      "aiosignal                 1.3.1\r\n",
      "annotated-types           0.7.0\r\n",
      "anyio                     4.2.0\r\n",
      "appnope                   0.1.2\r\n",
      "argon2-cffi               21.3.0\r\n",
      "argon2-cffi-bindings      21.2.0\r\n",
      "asttokens                 2.0.5\r\n",
      "async-lru                 2.0.4\r\n",
      "async-timeout             4.0.3\r\n",
      "attrs                     23.1.0\r\n",
      "Babel                     2.11.0\r\n",
      "beautifulsoup4            4.12.3\r\n",
      "bleach                    4.1.0\r\n",
      "Brotli                    1.0.9\r\n",
      "certifi                   2024.7.4\r\n",
      "cffi                      1.16.0\r\n",
      "charset-normalizer        3.3.2\r\n",
      "comm                      0.2.1\r\n",
      "debugpy                   1.6.7\r\n",
      "decorator                 5.1.1\r\n",
      "defusedxml                0.7.1\r\n",
      "exceptiongroup            1.2.0\r\n",
      "executing                 0.8.3\r\n",
      "fastjsonschema            2.16.2\r\n",
      "frozenlist                1.4.1\r\n",
      "h11                       0.14.0\r\n",
      "httpcore                  1.0.5\r\n",
      "httpx                     0.27.0\r\n",
      "idna                      3.7\r\n",
      "ipykernel                 6.28.0\r\n",
      "ipython                   8.25.0\r\n",
      "ipywidgets                8.1.2\r\n",
      "jedi                      0.19.1\r\n",
      "Jinja2                    3.1.4\r\n",
      "json5                     0.9.6\r\n",
      "jsonpatch                 1.33\r\n",
      "jsonpointer               3.0.0\r\n",
      "jsonschema                4.19.2\r\n",
      "jsonschema-specifications 2023.7.1\r\n",
      "jupyter                   1.0.0\r\n",
      "jupyter_client            8.6.0\r\n",
      "jupyter-console           6.6.3\r\n",
      "jupyter_core              5.7.2\r\n",
      "jupyter-events            0.10.0\r\n",
      "jupyter-lsp               2.2.0\r\n",
      "jupyter_server            2.14.1\r\n",
      "jupyter_server_terminals  0.4.4\r\n",
      "jupyterlab                4.0.11\r\n",
      "jupyterlab-pygments       0.1.2\r\n",
      "jupyterlab_server         2.25.1\r\n",
      "jupyterlab-widgets        3.0.10\r\n",
      "langchain                 0.2.14\r\n",
      "langchain-core            0.2.33\r\n",
      "langchain-text-splitters  0.2.2\r\n",
      "langsmith                 0.1.100\r\n",
      "MarkupSafe                2.1.3\r\n",
      "matplotlib-inline         0.1.6\r\n",
      "mistune                   2.0.4\r\n",
      "multidict                 6.0.5\r\n",
      "nbclient                  0.8.0\r\n",
      "nbconvert                 7.10.0\r\n",
      "nbformat                  5.9.2\r\n",
      "nest-asyncio              1.6.0\r\n",
      "notebook                  7.0.8\r\n",
      "notebook_shim             0.2.3\r\n",
      "numpy                     1.26.4\r\n",
      "orjson                    3.10.7\r\n",
      "overrides                 7.4.0\r\n",
      "packaging                 24.1\r\n",
      "pandocfilters             1.5.0\r\n",
      "parso                     0.8.3\r\n",
      "pexpect                   4.8.0\r\n",
      "pip                       24.0\r\n",
      "platformdirs              3.10.0\r\n",
      "ply                       3.11\r\n",
      "prometheus-client         0.14.1\r\n",
      "prompt-toolkit            3.0.43\r\n",
      "psutil                    5.9.0\r\n",
      "ptyprocess                0.7.0\r\n",
      "pure-eval                 0.2.2\r\n",
      "pycparser                 2.21\r\n",
      "pydantic                  2.8.2\r\n",
      "pydantic_core             2.20.1\r\n",
      "Pygments                  2.15.1\r\n",
      "PyQt5                     5.15.10\r\n",
      "PyQt5-sip                 12.13.0\r\n",
      "PySocks                   1.7.1\r\n",
      "python-dateutil           2.9.0.post0\r\n",
      "python-json-logger        2.0.7\r\n",
      "pytz                      2024.1\r\n",
      "PyYAML                    6.0.1\r\n",
      "pyzmq                     25.1.2\r\n",
      "qtconsole                 5.5.1\r\n",
      "QtPy                      2.4.1\r\n",
      "referencing               0.30.2\r\n",
      "requests                  2.32.3\r\n",
      "rfc3339-validator         0.1.4\r\n",
      "rfc3986-validator         0.1.1\r\n",
      "rpds-py                   0.10.6\r\n",
      "Send2Trash                1.8.2\r\n",
      "setuptools                69.5.1\r\n",
      "sip                       6.7.12\r\n",
      "six                       1.16.0\r\n",
      "sniffio                   1.3.0\r\n",
      "soupsieve                 2.5\r\n",
      "SQLAlchemy                2.0.32\r\n",
      "stack-data                0.2.0\r\n",
      "tenacity                  8.5.0\r\n",
      "terminado                 0.17.1\r\n",
      "tinycss2                  1.2.1\r\n",
      "tomli                     2.0.1\r\n",
      "tornado                   6.4.1\r\n",
      "traitlets                 5.14.3\r\n",
      "typing_extensions         4.11.0\r\n",
      "urllib3                   2.2.2\r\n",
      "wcwidth                   0.2.5\r\n",
      "webencodings              0.5.1\r\n",
      "websocket-client          1.8.0\r\n",
      "wheel                     0.43.0\r\n",
      "widgetsnbextension        4.0.10\r\n",
      "yarl                      1.9.4\r\n"
     ]
    }
   ],
   "execution_count": 11
  },
  {
   "cell_type": "code",
   "id": "5d4e3bd9-fac3-4b67-9285-74e1793f9e74",
   "metadata": {
    "ExecuteTime": {
     "end_time": "2024-08-21T14:31:12.777705Z",
     "start_time": "2024-08-21T14:31:12.459321Z"
    }
   },
   "source": [
    "from langchain.chat_models import ChatOpenAI\n",
    "\n",
    "# 为了翻译结果的稳定性，将 temperature 设置为 0\n",
    "translation_model = ChatOpenAI(model_name=\"gpt-3.5-turbo\", temperature=0, api_key = 'your key')"
   ],
   "outputs": [],
   "execution_count": 20
  },
  {
   "cell_type": "code",
   "id": "c46d710c-9892-4ce2-8dcf-c3450dae8d83",
   "metadata": {
    "ExecuteTime": {
     "end_time": "2024-08-21T14:31:17.328223Z",
     "start_time": "2024-08-21T14:31:16.506289Z"
    }
   },
   "source": [
    "translation_result = translation_model(chat_prompt)"
   ],
   "outputs": [
    {
     "name": "stderr",
     "output_type": "stream",
     "text": [
      "/opt/anaconda3/envs/myenv/lib/python3.10/site-packages/langchain_core/_api/deprecation.py:141: LangChainDeprecationWarning: The method `BaseChatModel.__call__` was deprecated in langchain-core 0.1.7 and will be removed in 1.0. Use invoke instead.\n",
      "  warn_deprecated(\n"
     ]
    }
   ],
   "execution_count": 21
  },
  {
   "cell_type": "code",
   "id": "63d7cadf-515a-41cd-82d7-1498a3d6a35f",
   "metadata": {
    "ExecuteTime": {
     "end_time": "2024-08-21T14:31:37.159998Z",
     "start_time": "2024-08-21T14:31:37.143999Z"
    }
   },
   "source": [
    "translation_result"
   ],
   "outputs": [
    {
     "data": {
      "text/plain": [
       "AIMessage(content='我喜欢编程。', response_metadata={'token_usage': {'completion_tokens': 8, 'prompt_tokens': 34, 'total_tokens': 42}, 'model_name': 'gpt-3.5-turbo', 'system_fingerprint': None, 'finish_reason': 'stop', 'logprobs': None}, id='run-d116fc4e-b4e6-4454-8c25-7ce1420f7e23-0')"
      ]
     },
     "execution_count": 22,
     "metadata": {},
     "output_type": "execute_result"
    }
   ],
   "execution_count": 22
  },
  {
   "cell_type": "code",
   "id": "d56c7a65-bc6c-4e19-8176-ddc457696d0b",
   "metadata": {
    "ExecuteTime": {
     "end_time": "2024-08-21T14:31:48.953263Z",
     "start_time": "2024-08-21T14:31:48.946336Z"
    }
   },
   "source": [
    "# 查看翻译结果\n",
    "print(translation_result.content)"
   ],
   "outputs": [
    {
     "name": "stdout",
     "output_type": "stream",
     "text": [
      "我喜欢编程。\n"
     ]
    }
   ],
   "execution_count": 23
  },
  {
   "cell_type": "markdown",
   "id": "75f3e72a-90e0-40dc-afa8-0ff96c2b7d72",
   "metadata": {},
   "source": [
    "## 使用 LLMChain 简化重复构造 ChatPrompt"
   ]
  },
  {
   "cell_type": "code",
   "id": "4a57ee8c-dad1-429c-a791-2797a7b0c4ef",
   "metadata": {
    "ExecuteTime": {
     "end_time": "2024-08-21T14:31:55.572132Z",
     "start_time": "2024-08-21T14:31:55.537303Z"
    }
   },
   "source": [
    "from langchain.chains import LLMChain\n",
    "\n",
    "# 无需再每次都使用 to_messages 方法构造 Chat Prompt\n",
    "translation_chain = LLMChain(llm=translation_model, prompt=chat_prompt_template)"
   ],
   "outputs": [
    {
     "name": "stderr",
     "output_type": "stream",
     "text": [
      "/opt/anaconda3/envs/myenv/lib/python3.10/site-packages/langchain_core/_api/deprecation.py:141: LangChainDeprecationWarning: The class `LLMChain` was deprecated in LangChain 0.1.17 and will be removed in 1.0. Use RunnableSequence, e.g., `prompt | llm` instead.\n",
      "  warn_deprecated(\n"
     ]
    }
   ],
   "execution_count": 24
  },
  {
   "cell_type": "code",
   "id": "723cebfa-a3bd-434f-9992-9ec25833acdf",
   "metadata": {
    "ExecuteTime": {
     "end_time": "2024-08-21T14:32:13.854905Z",
     "start_time": "2024-08-21T14:32:13.010283Z"
    }
   },
   "source": [
    "# 等价于 translation_result.content (字符串类型)\n",
    "chain_result = translation_chain.run({'text': \"I love programming.\"})"
   ],
   "outputs": [
    {
     "name": "stderr",
     "output_type": "stream",
     "text": [
      "/opt/anaconda3/envs/myenv/lib/python3.10/site-packages/langchain_core/_api/deprecation.py:141: LangChainDeprecationWarning: The method `Chain.run` was deprecated in langchain 0.1.0 and will be removed in 1.0. Use invoke instead.\n",
      "  warn_deprecated(\n"
     ]
    }
   ],
   "execution_count": 25
  },
  {
   "cell_type": "code",
   "id": "21e1d186-88de-4ca8-ad32-c233d99145c4",
   "metadata": {
    "ExecuteTime": {
     "end_time": "2024-08-21T14:32:16.379977Z",
     "start_time": "2024-08-21T14:32:16.377179Z"
    }
   },
   "source": [
    "print(chain_result)"
   ],
   "outputs": [
    {
     "name": "stdout",
     "output_type": "stream",
     "text": [
      "我喜欢编程。\n"
     ]
    }
   ],
   "execution_count": 26
  },
  {
   "cell_type": "code",
   "id": "faddd232-0308-45ce-b2a6-899f261abe57",
   "metadata": {
    "ExecuteTime": {
     "end_time": "2024-08-21T14:32:54.417900Z",
     "start_time": "2024-08-21T14:32:53.378616Z"
    }
   },
   "source": "translation_chain.run({'text': \"I love AI and Large Language Model. and u\"})",
   "outputs": [
    {
     "data": {
      "text/plain": [
       "'我喜欢人工智能和大型语言模型。你呢？'"
      ]
     },
     "execution_count": 29,
     "metadata": {},
     "output_type": "execute_result"
    }
   ],
   "execution_count": 29
  },
  {
   "cell_type": "code",
   "id": "4f3dcb51-7e3f-4787-84aa-60f45def661e",
   "metadata": {
    "ExecuteTime": {
     "end_time": "2024-08-21T14:33:03.216980Z",
     "start_time": "2024-08-21T14:33:00.782144Z"
    }
   },
   "source": [
    "translation_chain.run({'text': \"[Fruit, Color, Price (USD)] [Apple, Red, 1.20] [Banana, Yellow, 0.50] [Orange, Orange, 0.80] [Strawberry, Red, 2.50] [Blueberry, Blue, 3.00] [Kiwi, Green, 1.00] [Mango, Orange, 1.50] [Grape, Purple, 2.00]\"})\n"
   ],
   "outputs": [
    {
     "data": {
      "text/plain": [
       "'[水果，颜色，价格（美元）] [苹果，红色，1.20] [香蕉，黄色，0.50] [橙子，橙色，0.80] [草莓，红色，2.50] [蓝莓，蓝色，3.00] [猕猴桃，绿色，1.00] [芒果，橙色，1.50] [葡萄，紫色，2.00]'"
      ]
     },
     "execution_count": 30,
     "metadata": {},
     "output_type": "execute_result"
    }
   ],
   "execution_count": 30
  },
  {
   "cell_type": "markdown",
   "id": "a47a1bfd-2beb-41eb-a1c1-c6443e4ec129",
   "metadata": {},
   "source": [
    "## 扩展：支持多语言对翻译"
   ]
  },
  {
   "cell_type": "code",
   "id": "bb9b37f6-4bcb-450c-b3c6-e476a8f15bc7",
   "metadata": {
    "ExecuteTime": {
     "end_time": "2024-08-21T14:33:10.838967Z",
     "start_time": "2024-08-21T14:33:10.831990Z"
    }
   },
   "source": [
    "# System 增加 source_language 和 target_language\n",
    "template = (\n",
    "    \"\"\"You are a translation expert, proficient in various languages. \\n\n",
    "    Translates {source_language} to {target_language}.\"\"\"\n",
    ")\n",
    "system_message_prompt = SystemMessagePromptTemplate.from_template(template)"
   ],
   "outputs": [],
   "execution_count": 31
  },
  {
   "cell_type": "code",
   "id": "2fccc32f-2b3f-4666-82be-607c452893b7",
   "metadata": {
    "ExecuteTime": {
     "end_time": "2024-08-21T14:33:15.211699Z",
     "start_time": "2024-08-21T14:33:15.209115Z"
    }
   },
   "source": [
    "# 待翻译文本由 Human 角色输入\n",
    "human_template = \"{text}\"\n",
    "human_message_prompt = HumanMessagePromptTemplate.from_template(human_template)"
   ],
   "outputs": [],
   "execution_count": 32
  },
  {
   "cell_type": "code",
   "id": "fd937e81-c54f-49d9-9422-c43670d8e5db",
   "metadata": {
    "ExecuteTime": {
     "end_time": "2024-08-21T14:33:17.936585Z",
     "start_time": "2024-08-21T14:33:17.933720Z"
    }
   },
   "source": [
    "# 使用 System 和 Human 角色的提示模板构造 ChatPromptTemplate\n",
    "m_chat_prompt_template = ChatPromptTemplate.from_messages(\n",
    "    [system_message_prompt, human_message_prompt]\n",
    ")"
   ],
   "outputs": [],
   "execution_count": 33
  },
  {
   "cell_type": "code",
   "id": "ab237375-59ab-40ac-986b-7254989b3418",
   "metadata": {
    "ExecuteTime": {
     "end_time": "2024-08-21T14:33:19.904443Z",
     "start_time": "2024-08-21T14:33:19.899150Z"
    }
   },
   "source": [
    "m_translation_chain = LLMChain(llm=translation_model, prompt=m_chat_prompt_template) "
   ],
   "outputs": [],
   "execution_count": 34
  },
  {
   "cell_type": "code",
   "id": "e728621c-008e-4c2b-bb57-483f1ee4c1e8",
   "metadata": {
    "ExecuteTime": {
     "end_time": "2024-08-21T14:33:22.236611Z",
     "start_time": "2024-08-21T14:33:21.318581Z"
    }
   },
   "source": [
    "m_translation_chain.run({\n",
    "    \"source_language\": \"Chinese\",\n",
    "    \"target_language\": \"English\",\n",
    "    \"text\": \"我喜欢学习大语言模型，轻松简单又愉快\",\n",
    "})"
   ],
   "outputs": [
    {
     "data": {
      "text/plain": [
       "'I enjoy studying large language models, which are easy, simple, and enjoyable.'"
      ]
     },
     "execution_count": 35,
     "metadata": {},
     "output_type": "execute_result"
    }
   ],
   "execution_count": 35
  },
  {
   "cell_type": "code",
   "id": "183455b3-9cf1-42b4-be91-9c699248266a",
   "metadata": {
    "ExecuteTime": {
     "end_time": "2024-08-21T14:33:29.248038Z",
     "start_time": "2024-08-21T14:33:28.037323Z"
    }
   },
   "source": [
    "m_translation_chain.run({\n",
    "    \"source_language\": \"Chinese\",\n",
    "    \"target_language\": \"Japanese\",\n",
    "    \"text\": \"我喜欢学习大语言模型，轻松简单又愉快\",\n",
    "})"
   ],
   "outputs": [
    {
     "data": {
      "text/plain": [
       "'私は大規模言語モデルの学習が好きで、簡単で楽しいです。'"
      ]
     },
     "execution_count": 36,
     "metadata": {},
     "output_type": "execute_result"
    }
   ],
   "execution_count": 36
  },
  {
   "cell_type": "markdown",
   "id": "d42bf232-d2ef-47d8-9029-97940d7f784a",
   "metadata": {},
   "source": [
    "## Homework\n",
    "- 尝试不同的 System Prompt 和 Chat Model，对比翻译效果。\n",
    "- 根据翻译任务的使用场景，是否可以在初次传入 source_language 和 target_language 后不再更新？"
   ]
  },
  {
   "cell_type": "code",
   "execution_count": null,
   "id": "38ee618a-bbaa-476f-80e6-8d22a81fddf6",
   "metadata": {},
   "outputs": [],
   "source": []
  }
 ],
 "metadata": {
  "kernelspec": {
   "display_name": "Python 3 (ipykernel)",
   "language": "python",
   "name": "python3"
  },
  "language_info": {
   "codemirror_mode": {
    "name": "ipython",
    "version": 3
   },
   "file_extension": ".py",
   "mimetype": "text/x-python",
   "name": "python",
   "nbconvert_exporter": "python",
   "pygments_lexer": "ipython3",
   "version": "3.11.7"
  }
 },
 "nbformat": 4,
 "nbformat_minor": 5
}
