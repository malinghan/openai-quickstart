{
 "cells": [
  {
   "attachments": {},
   "cell_type": "markdown",
   "id": "4be2e6fa-2187-4617-8433-0db4fb0c099c",
   "metadata": {},
   "source": [
    "# LangChain 核心模块学习：Model I/O\n",
    "\n",
    "`Model I/O` 是 LangChain 为开发者提供的一套面向 LLM 的标准化模型接口，包括模型输入（Prompts）、模型输出（Output Parsers）和模型本身（Models）。\n",
    "\n",
    "- Prompts：模板化、动态选择和管理模型输入\n",
    "- Models：以通用接口调用语言模型\n",
    "- Output Parser：从模型输出中提取信息，并规范化内容\n",
    "\n",
    "![](../images/model_io.jpeg)\n"
   ]
  },
  {
   "cell_type": "markdown",
   "id": "ce4a2474-0b69-4830-85cd-3715c22df304",
   "metadata": {},
   "source": [
    "## 输出解析器 Output Parser\n",
    "\n",
    "**语言模型的输出是文本。**\n",
    "\n",
    "但很多时候，您可能希望获得比纯文本**更结构化的信息**。这就是输出解析器的价值所在。\n",
    "\n",
    "输出解析器是帮助结构化语言模型响应的类。它们必须实现两种主要方法：\n",
    "\n",
    "- \"获取格式指令\"：返回一个包含有关如何格式化语言模型输出的字符串的方法。\n",
    "- \"解析\"：接受一个字符串（假设为来自语言模型的响应），并将其解析成某种结构。\n",
    "\n",
    "然后还有一种可选方法：\n",
    "- \"使用提示进行解析\"：接受一个字符串（假设为来自语言模型的响应）和一个提示（假设为生成此响应的提示），并将其解析成某种结构。在需要重新尝试或修复输出，并且需要从提示中获取信息以执行此操作时，通常会提供提示。"
   ]
  },
  {
   "cell_type": "markdown",
   "id": "1f14f4cf-8e30-47ab-b8b1-d58a90b5b1c1",
   "metadata": {},
   "source": [
    "### 列表解析 List Parser\n",
    "\n",
    "当您想要返回一个逗号分隔的项目列表时，可以使用此输出解析器。"
   ]
  },
  {
   "cell_type": "code",
   "id": "0089c8a5-a859-49f2-bec0-fcd84f2f3b56",
   "metadata": {
    "ExecuteTime": {
     "end_time": "2024-08-21T15:20:22.461038Z",
     "start_time": "2024-08-21T15:20:21.768791Z"
    }
   },
   "source": [
    "from langchain.output_parsers import CommaSeparatedListOutputParser\n",
    "from langchain.prompts import PromptTemplate, ChatPromptTemplate, HumanMessagePromptTemplate\n",
    "from langchain_openai import OpenAI\n",
    "\n",
    "# 创建一个输出解析器，用于处理带逗号分隔的列表输出\n",
    "output_parser = CommaSeparatedListOutputParser()\n",
    "\n",
    "# 获取格式化指令，该指令告诉模型如何格式化其输出\n",
    "format_instructions = output_parser.get_format_instructions()\n",
    "\n",
    "# 创建一个提示模板，它会基于给定的模板和变量来生成提示\n",
    "prompt = PromptTemplate(\n",
    "    template=\"List five {subject}.\\n{format_instructions}\",  # 模板内容\n",
    "    input_variables=[\"subject\"],  # 输入变量\n",
    "    partial_variables={\"format_instructions\": format_instructions}  # 预定义的变量，这里我们传入格式化指令\n",
    ")"
   ],
   "outputs": [],
   "execution_count": 1
  },
  {
   "cell_type": "code",
   "id": "8d681566-cde1-4ae5-8cd7-f53cf59c3e36",
   "metadata": {
    "ExecuteTime": {
     "end_time": "2024-08-21T15:20:27.916324Z",
     "start_time": "2024-08-21T15:20:27.912305Z"
    }
   },
   "source": [
    "# 使用提示模板和给定的主题来格式化输入\n",
    "_input = prompt.format(subject=\"ice cream flavors\")"
   ],
   "outputs": [],
   "execution_count": 2
  },
  {
   "cell_type": "code",
   "id": "ef5ea022-b27f-4cc9-b6c8-5d4e96e51d51",
   "metadata": {
    "ExecuteTime": {
     "end_time": "2024-08-21T15:20:30.511551Z",
     "start_time": "2024-08-21T15:20:30.490999Z"
    }
   },
   "source": [
    "print(_input)"
   ],
   "outputs": [
    {
     "name": "stdout",
     "output_type": "stream",
     "text": [
      "List five ice cream flavors.\n",
      "Your response should be a list of comma separated values, eg: `foo, bar, baz` or `foo,bar,baz`\n"
     ]
    }
   ],
   "execution_count": 3
  },
  {
   "metadata": {
    "ExecuteTime": {
     "end_time": "2024-08-21T15:21:00.598398Z",
     "start_time": "2024-08-21T15:21:00.586598Z"
    }
   },
   "cell_type": "code",
   "source": [
    "import os\n",
    "\n",
    "os.environ[\"OPENAI_API_KEY\"] = \"your key\""
   ],
   "id": "2c3b061173777446",
   "outputs": [],
   "execution_count": 5
  },
  {
   "cell_type": "code",
   "id": "4db222de-501b-4114-aaaa-03e54c2da228",
   "metadata": {
    "ExecuteTime": {
     "end_time": "2024-08-21T15:21:02.759964Z",
     "start_time": "2024-08-21T15:21:02.642633Z"
    }
   },
   "source": [
    "llm = OpenAI(temperature=0)\n"
   ],
   "outputs": [],
   "execution_count": 6
  },
  {
   "cell_type": "code",
   "id": "bd743ccf-c47f-4bde-a5a6-63052f6a2553",
   "metadata": {
    "ExecuteTime": {
     "end_time": "2024-08-21T15:21:05.476163Z",
     "start_time": "2024-08-21T15:21:03.962604Z"
    }
   },
   "source": [
    "output = llm(_input)"
   ],
   "outputs": [
    {
     "name": "stderr",
     "output_type": "stream",
     "text": [
      "/opt/anaconda3/envs/myenv/lib/python3.10/site-packages/langchain_core/_api/deprecation.py:141: LangChainDeprecationWarning: The method `BaseLLM.__call__` was deprecated in langchain-core 0.1.7 and will be removed in 1.0. Use invoke instead.\n",
      "  warn_deprecated(\n"
     ]
    }
   ],
   "execution_count": 7
  },
  {
   "cell_type": "code",
   "id": "12a2bc49-2656-47e8-b5a4-ee119ab77004",
   "metadata": {
    "ExecuteTime": {
     "end_time": "2024-08-21T15:21:07.158723Z",
     "start_time": "2024-08-21T15:21:07.155287Z"
    }
   },
   "source": [
    "print(output)"
   ],
   "outputs": [
    {
     "name": "stdout",
     "output_type": "stream",
     "text": [
      "\n",
      "\n",
      "1. Chocolate\n",
      "2. Vanilla\n",
      "3. Strawberry\n",
      "4. Mint chocolate chip\n",
      "5. Cookies and cream\n"
     ]
    }
   ],
   "execution_count": 8
  },
  {
   "cell_type": "code",
   "id": "0bb71bf2-3220-4326-a69c-7b0fa1864877",
   "metadata": {
    "ExecuteTime": {
     "end_time": "2024-08-21T15:21:11.830428Z",
     "start_time": "2024-08-21T15:21:11.823692Z"
    }
   },
   "source": [
    "# 使用之前创建的输出解析器来解析模型的输出\n",
    "output_parser.parse(output)"
   ],
   "outputs": [
    {
     "data": {
      "text/plain": [
       "['1. Chocolate\\n2. Vanilla\\n3. Strawberry\\n4. Mint chocolate chip\\n5. Cookies and cream']"
      ]
     },
     "execution_count": 9,
     "metadata": {},
     "output_type": "execute_result"
    }
   ],
   "execution_count": 9
  },
  {
   "cell_type": "code",
   "id": "81fbd00c-5e03-4b23-a276-6acc0f5d5f1a",
   "metadata": {
    "ExecuteTime": {
     "end_time": "2024-08-21T15:21:29.336377Z",
     "start_time": "2024-08-21T15:21:29.333006Z"
    }
   },
   "source": [],
   "outputs": [],
   "execution_count": 9
  },
  {
   "cell_type": "markdown",
   "id": "bd93d8d7-7d77-4453-97a6-f7349090a370",
   "metadata": {},
   "source": [
    "### 日期解析 Datatime Parser"
   ]
  },
  {
   "cell_type": "code",
   "id": "9b91deaf-6d3f-4d48-a084-58ec1ec4b0b3",
   "metadata": {
    "ExecuteTime": {
     "end_time": "2024-08-21T15:21:37.030448Z",
     "start_time": "2024-08-21T15:21:37.000463Z"
    }
   },
   "source": [
    "from langchain.output_parsers import DatetimeOutputParser\n",
    "from langchain.chains import LLMChain\n",
    "\n",
    "output_parser = DatetimeOutputParser()\n",
    "template = \"\"\"Answer the users question:\n",
    "\n",
    "{question}\n",
    "\n",
    "{format_instructions}\"\"\"\n",
    "\n",
    "prompt = PromptTemplate.from_template(\n",
    "    template,\n",
    "    partial_variables={\"format_instructions\": output_parser.get_format_instructions()},\n",
    ")"
   ],
   "outputs": [],
   "execution_count": 10
  },
  {
   "cell_type": "code",
   "id": "96ad1f11-c2d0-4bb5-a8ec-1b5dd5132573",
   "metadata": {
    "ExecuteTime": {
     "end_time": "2024-08-21T15:21:38.148069Z",
     "start_time": "2024-08-21T15:21:38.144895Z"
    }
   },
   "source": [
    "print(prompt)"
   ],
   "outputs": [
    {
     "name": "stdout",
     "output_type": "stream",
     "text": [
      "input_variables=['question'] partial_variables={'format_instructions': \"Write a datetime string that matches the following pattern: '%Y-%m-%dT%H:%M:%S.%fZ'.\\n\\nExamples: 0071-04-08T11:27:48.172297Z, 0106-01-26T06:21:36.651804Z, 1991-07-13T21:31:31.098663Z\\n\\nReturn ONLY this string, no other words!\"} template='Answer the users question:\\n\\n{question}\\n\\n{format_instructions}'\n"
     ]
    }
   ],
   "execution_count": 11
  },
  {
   "cell_type": "code",
   "id": "1eca781f-0146-45e5-9848-bf8347513a77",
   "metadata": {
    "ExecuteTime": {
     "end_time": "2024-08-21T15:21:42.276532Z",
     "start_time": "2024-08-21T15:21:42.272960Z"
    }
   },
   "source": [
    "print(prompt.format(question=\"around when was bitcoin founded?\"))"
   ],
   "outputs": [
    {
     "name": "stdout",
     "output_type": "stream",
     "text": [
      "Answer the users question:\n",
      "\n",
      "around when was bitcoin founded?\n",
      "\n",
      "Write a datetime string that matches the following pattern: '%Y-%m-%dT%H:%M:%S.%fZ'.\n",
      "\n",
      "Examples: 0071-04-08T11:27:48.172297Z, 0106-01-26T06:21:36.651804Z, 1991-07-13T21:31:31.098663Z\n",
      "\n",
      "Return ONLY this string, no other words!\n"
     ]
    }
   ],
   "execution_count": 12
  },
  {
   "cell_type": "code",
   "id": "4f46d70f-78a4-4576-9583-4f67c1ab1d08",
   "metadata": {
    "ExecuteTime": {
     "end_time": "2024-08-21T15:21:47.253726Z",
     "start_time": "2024-08-21T15:21:47.126304Z"
    }
   },
   "source": [
    "chain = LLMChain(prompt=prompt, llm=OpenAI())"
   ],
   "outputs": [
    {
     "name": "stderr",
     "output_type": "stream",
     "text": [
      "/opt/anaconda3/envs/myenv/lib/python3.10/site-packages/langchain_core/_api/deprecation.py:141: LangChainDeprecationWarning: The class `LLMChain` was deprecated in LangChain 0.1.17 and will be removed in 1.0. Use RunnableSequence, e.g., `prompt | llm` instead.\n",
      "  warn_deprecated(\n"
     ]
    }
   ],
   "execution_count": 13
  },
  {
   "cell_type": "code",
   "id": "97e3270b-43be-4018-b5c8-b2f7ffdbec46",
   "metadata": {
    "ExecuteTime": {
     "end_time": "2024-08-21T15:21:51.804184Z",
     "start_time": "2024-08-21T15:21:50.460084Z"
    }
   },
   "source": [
    "output = chain.run(\"around when was bitcoin founded?\")"
   ],
   "outputs": [
    {
     "name": "stderr",
     "output_type": "stream",
     "text": [
      "/opt/anaconda3/envs/myenv/lib/python3.10/site-packages/langchain_core/_api/deprecation.py:141: LangChainDeprecationWarning: The method `Chain.run` was deprecated in langchain 0.1.0 and will be removed in 1.0. Use invoke instead.\n",
      "  warn_deprecated(\n"
     ]
    }
   ],
   "execution_count": 14
  },
  {
   "cell_type": "code",
   "id": "dc7915dc-ef1e-4feb-8db1-83d51d773daa",
   "metadata": {
    "ExecuteTime": {
     "end_time": "2024-08-21T15:21:59.020731Z",
     "start_time": "2024-08-21T15:21:59.002871Z"
    }
   },
   "source": [
    "output"
   ],
   "outputs": [
    {
     "data": {
      "text/plain": [
       "'\\n\\n2009-01-03T18:15:05.000000Z'"
      ]
     },
     "execution_count": 15,
     "metadata": {},
     "output_type": "execute_result"
    }
   ],
   "execution_count": 15
  },
  {
   "cell_type": "code",
   "id": "e9bfcab7-a335-4b36-8292-6ac92352222b",
   "metadata": {
    "ExecuteTime": {
     "end_time": "2024-08-21T15:22:01.221050Z",
     "start_time": "2024-08-21T15:22:01.216510Z"
    }
   },
   "source": [
    "output_parser.parse(output)"
   ],
   "outputs": [
    {
     "data": {
      "text/plain": [
       "datetime.datetime(2009, 1, 3, 18, 15, 5)"
      ]
     },
     "execution_count": 16,
     "metadata": {},
     "output_type": "execute_result"
    }
   ],
   "execution_count": 16
  },
  {
   "cell_type": "code",
   "id": "2db4804c-7a1f-41df-99ed-cb7956387155",
   "metadata": {
    "ExecuteTime": {
     "end_time": "2024-08-21T15:22:04.794228Z",
     "start_time": "2024-08-21T15:22:04.791142Z"
    }
   },
   "source": [
    "print(output_parser.parse(output))"
   ],
   "outputs": [
    {
     "name": "stdout",
     "output_type": "stream",
     "text": [
      "2009-01-03 18:15:05\n"
     ]
    }
   ],
   "execution_count": 17
  },
  {
   "cell_type": "code",
   "id": "a18b9b7e-cce2-4561-9030-21fdc5822d3f",
   "metadata": {
    "ExecuteTime": {
     "end_time": "2024-08-21T15:22:07.326499Z",
     "start_time": "2024-08-21T15:22:07.322912Z"
    }
   },
   "source": [],
   "outputs": [],
   "execution_count": 17
  },
  {
   "metadata": {},
   "cell_type": "code",
   "outputs": [],
   "execution_count": null,
   "source": "",
   "id": "5c926339f92dea4c"
  }
 ],
 "metadata": {
  "kernelspec": {
   "display_name": "Python 3 (ipykernel)",
   "language": "python",
   "name": "python3"
  },
  "language_info": {
   "codemirror_mode": {
    "name": "ipython",
    "version": 3
   },
   "file_extension": ".py",
   "mimetype": "text/x-python",
   "name": "python",
   "nbconvert_exporter": "python",
   "pygments_lexer": "ipython3",
   "version": "3.10.14"
  }
 },
 "nbformat": 4,
 "nbformat_minor": 5
}
