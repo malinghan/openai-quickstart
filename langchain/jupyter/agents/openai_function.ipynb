{
 "cells": [
  {
   "cell_type": "markdown",
   "id": "42bcbfc9-e0bb-4748-b47b-eee74d12b50a",
   "metadata": {},
   "source": [
    "# LangChain 核心模块 Agent - OpenAI Function\n"
   ]
  },
  {
   "cell_type": "code",
   "id": "146126a2-ab3c-4b83-a332-0d5dabe92425",
   "metadata": {
    "ExecuteTime": {
     "end_time": "2024-08-21T14:42:02.381542Z",
     "start_time": "2024-08-21T14:42:02.232528Z"
    }
   },
   "source": [
    "from langchain_openai import ChatOpenAI\n",
    "\n",
    "# 使用 GPT-3.5-turbo\n",
    "llm = ChatOpenAI(temperature=0, api_key = 'sk-E0y9LTOvDNUAiMvy2h_bFVEmM2qwIL2KERn_Gh8QpMT3BlbkFJdkm7yZShaZQR-0oAPgYo6r_EEL6PYLt1Qar-McvTsA')"
   ],
   "outputs": [],
   "execution_count": 6
  },
  {
   "cell_type": "code",
   "id": "1042d527-cae8-4b6d-a767-39014e2f6d68",
   "metadata": {
    "ExecuteTime": {
     "end_time": "2024-08-21T14:42:02.398517Z",
     "start_time": "2024-08-21T14:42:02.382564Z"
    }
   },
   "source": [
    "from langchain.agents import tool\n",
    "\n",
    "@tool\n",
    "def get_word_length(word: str) -> int:\n",
    "    \"\"\"Returns the length of a word.\"\"\"\n",
    "    return len(word)\n",
    "\n",
    "tools = [get_word_length]"
   ],
   "outputs": [],
   "execution_count": 7
  },
  {
   "cell_type": "code",
   "id": "54c7ba73-55fa-49cf-82cf-d310c1a8a0d1",
   "metadata": {
    "ExecuteTime": {
     "end_time": "2024-08-21T14:42:10.226019Z",
     "start_time": "2024-08-21T14:42:10.219222Z"
    }
   },
   "source": [
    "from langchain.schema import SystemMessage\n",
    "from langchain.agents import OpenAIFunctionsAgent\n",
    "\n",
    "system_message = SystemMessage(content=\"你是非常强大的AI助手，但在计算单词长度方面不擅长。\")\n",
    "prompt = OpenAIFunctionsAgent.create_prompt(system_message=system_message)"
   ],
   "outputs": [],
   "execution_count": 17
  },
  {
   "cell_type": "code",
   "id": "ef0874c6-8076-4536-9533-bb9f69f450fe",
   "metadata": {
    "ExecuteTime": {
     "end_time": "2024-08-21T14:42:19.081606Z",
     "start_time": "2024-08-21T14:42:19.070932Z"
    }
   },
   "source": [
    "agent = OpenAIFunctionsAgent(llm=llm, tools=tools, prompt=prompt)"
   ],
   "outputs": [],
   "execution_count": 18
  },
  {
   "cell_type": "code",
   "id": "e7061c25-d090-4b52-a137-ba7545759241",
   "metadata": {
    "ExecuteTime": {
     "end_time": "2024-08-21T14:42:27.407899Z",
     "start_time": "2024-08-21T14:42:27.400551Z"
    }
   },
   "source": [
    "from langchain.agents import AgentExecutor\n",
    "\n",
    "# 实例化 OpenAIFunctionsAgent\n",
    "agent_executor = AgentExecutor(agent=agent, tools=tools, verbose=True)"
   ],
   "outputs": [],
   "execution_count": 19
  },
  {
   "cell_type": "code",
   "id": "4f0ae154-5cb9-44cf-91d6-cc80308dcffc",
   "metadata": {
    "ExecuteTime": {
     "end_time": "2024-08-21T14:42:31.439296Z",
     "start_time": "2024-08-21T14:42:29.529151Z"
    }
   },
   "source": [
    "agent_executor.run(\"单词“educa”中有多少个字母?\")"
   ],
   "outputs": [
    {
     "name": "stdout",
     "output_type": "stream",
     "text": [
      "\n",
      "\n",
      "\u001B[1m> Entering new AgentExecutor chain...\u001B[0m\n",
      "\u001B[32;1m\u001B[1;3m\n",
      "Invoking: `get_word_length` with `{'word': 'educa'}`\n",
      "\n",
      "\n",
      "\u001B[0m\u001B[36;1m\u001B[1;3m5\u001B[0m\u001B[32;1m\u001B[1;3m单词“educa”中有5个字母。\u001B[0m\n",
      "\n",
      "\u001B[1m> Finished chain.\u001B[0m\n"
     ]
    },
    {
     "data": {
      "text/plain": [
       "'单词“educa”中有5个字母。'"
      ]
     },
     "execution_count": 20,
     "metadata": {},
     "output_type": "execute_result"
    }
   ],
   "execution_count": 20
  },
  {
   "cell_type": "code",
   "id": "2070d22f-c9d9-4346-b41d-e9beecb40625",
   "metadata": {
    "ExecuteTime": {
     "end_time": "2024-08-21T14:42:59.452275Z",
     "start_time": "2024-08-21T14:42:59.443682Z"
    }
   },
   "source": [
    "from langchain.prompts import MessagesPlaceholder\n",
    "\n",
    "MEMORY_KEY = \"chat_history\"\n",
    "prompt = OpenAIFunctionsAgent.create_prompt(\n",
    "    system_message=system_message,\n",
    "    extra_prompt_messages=[MessagesPlaceholder(variable_name=MEMORY_KEY)]\n",
    ")"
   ],
   "outputs": [],
   "execution_count": 22
  },
  {
   "cell_type": "code",
   "id": "849ebeac-aa8c-4ae8-b36c-c81a120147fb",
   "metadata": {
    "ExecuteTime": {
     "end_time": "2024-08-21T14:43:01.282841Z",
     "start_time": "2024-08-21T14:43:01.276449Z"
    }
   },
   "source": [
    "from langchain.memory import ConversationBufferMemory\n",
    "\n",
    "memory = ConversationBufferMemory(memory_key=MEMORY_KEY, return_messages=True)"
   ],
   "outputs": [],
   "execution_count": 23
  },
  {
   "cell_type": "code",
   "id": "9af06fad-4f85-4411-b4f8-4fca7a45e09b",
   "metadata": {
    "ExecuteTime": {
     "end_time": "2024-08-21T14:43:04.757665Z",
     "start_time": "2024-08-21T14:43:04.748616Z"
    }
   },
   "source": [
    "agent = OpenAIFunctionsAgent(llm=llm, tools=tools, prompt=prompt)\n",
    "agent_executor = AgentExecutor(agent=agent, tools=tools, memory=memory, verbose=True)"
   ],
   "outputs": [],
   "execution_count": 24
  },
  {
   "cell_type": "code",
   "id": "fc912215-61d3-4ce1-9a48-b795cf445bde",
   "metadata": {
    "ExecuteTime": {
     "end_time": "2024-08-21T14:43:12.289551Z",
     "start_time": "2024-08-21T14:43:10.536481Z"
    }
   },
   "source": [
    "agent_executor.run(\"单词“educa”中有多少个字母?\")"
   ],
   "outputs": [
    {
     "name": "stdout",
     "output_type": "stream",
     "text": [
      "\n",
      "\n",
      "\u001B[1m> Entering new AgentExecutor chain...\u001B[0m\n",
      "\u001B[32;1m\u001B[1;3m\n",
      "Invoking: `get_word_length` with `{'word': 'educa'}`\n",
      "\n",
      "\n",
      "\u001B[0m\u001B[36;1m\u001B[1;3m5\u001B[0m\u001B[32;1m\u001B[1;3m单词“educa”中有5个字母。\u001B[0m\n",
      "\n",
      "\u001B[1m> Finished chain.\u001B[0m\n"
     ]
    },
    {
     "data": {
      "text/plain": [
       "'单词“educa”中有5个字母。'"
      ]
     },
     "execution_count": 25,
     "metadata": {},
     "output_type": "execute_result"
    }
   ],
   "execution_count": 25
  },
  {
   "cell_type": "code",
   "id": "d3f96ac9-b548-4908-9c5e-d58118ed6a9a",
   "metadata": {
    "ExecuteTime": {
     "end_time": "2024-08-21T14:43:16.700089Z",
     "start_time": "2024-08-21T14:43:15.187411Z"
    }
   },
   "source": [
    "agent_executor.run(\"那是一个真实的单词吗？\")"
   ],
   "outputs": [
    {
     "name": "stdout",
     "output_type": "stream",
     "text": [
      "\n",
      "\n",
      "\u001B[1m> Entering new AgentExecutor chain...\u001B[0m\n",
      "\u001B[32;1m\u001B[1;3m抱歉，我无法确定“educa”是否是一个真实的单词。您可以查阅词典或搜索引擎来确认这个单词的存在。\u001B[0m\n",
      "\n",
      "\u001B[1m> Finished chain.\u001B[0m\n"
     ]
    },
    {
     "data": {
      "text/plain": [
       "'抱歉，我无法确定“educa”是否是一个真实的单词。您可以查阅词典或搜索引擎来确认这个单词的存在。'"
      ]
     },
     "execution_count": 26,
     "metadata": {},
     "output_type": "execute_result"
    }
   ],
   "execution_count": 26
  },
  {
   "cell_type": "code",
   "id": "2870681e-184f-4338-8cbb-3937e6bb33d0",
   "metadata": {
    "ExecuteTime": {
     "end_time": "2024-08-21T14:44:01.633772Z",
     "start_time": "2024-08-21T14:43:59.866850Z"
    }
   },
   "source": "agent_executor.run(\"说出这个单词最相似的五个单词？\")",
   "outputs": [
    {
     "name": "stdout",
     "output_type": "stream",
     "text": [
      "\n",
      "\n",
      "\u001B[1m> Entering new AgentExecutor chain...\u001B[0m\n",
      "\u001B[32;1m\u001B[1;3m抱歉，我无法提供与“educa”最相似的五个单词，因为我无法确定这个单词的存在。您可以尝试使用在线词典或搜索引擎来查找类似的单词。\u001B[0m\n",
      "\n",
      "\u001B[1m> Finished chain.\u001B[0m\n"
     ]
    },
    {
     "data": {
      "text/plain": [
       "'抱歉，我无法提供与“educa”最相似的五个单词，因为我无法确定这个单词的存在。您可以尝试使用在线词典或搜索引擎来查找类似的单词。'"
      ]
     },
     "execution_count": 27,
     "metadata": {},
     "output_type": "execute_result"
    }
   ],
   "execution_count": 27
  },
  {
   "metadata": {
    "ExecuteTime": {
     "end_time": "2024-08-21T14:44:48.680788Z",
     "start_time": "2024-08-21T14:44:47.271082Z"
    }
   },
   "cell_type": "code",
   "source": "agent_executor.run(\"把这个单词后面加上tion？\")",
   "id": "82ed1099321fb6db",
   "outputs": [
    {
     "name": "stdout",
     "output_type": "stream",
     "text": [
      "\n",
      "\n",
      "\u001B[1m> Entering new AgentExecutor chain...\u001B[0m\n",
      "\u001B[32;1m\u001B[1;3m将单词“educa”后面加上“tion”得到的单词是“education”。\u001B[0m\n",
      "\n",
      "\u001B[1m> Finished chain.\u001B[0m\n"
     ]
    },
    {
     "data": {
      "text/plain": [
       "'将单词“educa”后面加上“tion”得到的单词是“education”。'"
      ]
     },
     "execution_count": 28,
     "metadata": {},
     "output_type": "execute_result"
    }
   ],
   "execution_count": 28
  },
  {
   "metadata": {
    "ExecuteTime": {
     "end_time": "2024-08-21T14:46:20.741977Z",
     "start_time": "2024-08-21T14:46:10.598519Z"
    }
   },
   "cell_type": "code",
   "source": "agent_executor.run(\"把这个单词后面加上tion，之后将其相似的5个单词找出来，并全部翻译\")",
   "id": "f2c8d207f3c1e6f8",
   "outputs": [
    {
     "name": "stdout",
     "output_type": "stream",
     "text": [
      "\n",
      "\n",
      "\u001B[1m> Entering new AgentExecutor chain...\u001B[0m\n",
      "\u001B[32;1m\u001B[1;3m\n",
      "Invoking: `get_word_length` with `{'word': 'education'}`\n",
      "\n",
      "\n",
      "\u001B[0m\u001B[36;1m\u001B[1;3m9\u001B[0m\u001B[32;1m\u001B[1;3m\n",
      "Invoking: `get_word_length` with `{'word': 'educations'}`\n",
      "responded: 单词“education”有9个字母。\n",
      "\n",
      "接下来，让我尝试找出与“education”相似的五个单词，并为您翻译它们。请稍等片刻。\n",
      "\n",
      "\u001B[0m\u001B[36;1m\u001B[1;3m10\u001B[0m\u001B[32;1m\u001B[1;3m\n",
      "Invoking: `get_word_length` with `{'word': 'educational'}`\n",
      "\n",
      "\n",
      "\u001B[0m\u001B[36;1m\u001B[1;3m11\u001B[0m\u001B[32;1m\u001B[1;3m\n",
      "Invoking: `get_word_length` with `{'word': 'educationally'}`\n",
      "\n",
      "\n",
      "\u001B[0m\u001B[36;1m\u001B[1;3m13\u001B[0m\u001B[32;1m\u001B[1;3m\n",
      "Invoking: `get_word_length` with `{'word': 'educative'}`\n",
      "\n",
      "\n",
      "\u001B[0m\u001B[36;1m\u001B[1;3m9\u001B[0m\u001B[32;1m\u001B[1;3m\n",
      "Invoking: `get_word_length` with `{'word': 'educator'}`\n",
      "\n",
      "\n",
      "\u001B[0m\u001B[36;1m\u001B[1;3m8\u001B[0m\u001B[32;1m\u001B[1;3m以下是与单词“education”相似的五个单词以及它们的翻译：\n",
      "\n",
      "1. educations - 教育\n",
      "2. educational - 教育的\n",
      "3. educationally - 教育地\n",
      "4. educative - 有教育意义的\n",
      "5. educator - 教育者\n",
      "\n",
      "希望这些信息对您有帮助！如果您有任何其他问题或需要进一步帮助，请随时告诉我。\u001B[0m\n",
      "\n",
      "\u001B[1m> Finished chain.\u001B[0m\n"
     ]
    },
    {
     "data": {
      "text/plain": [
       "'以下是与单词“education”相似的五个单词以及它们的翻译：\\n\\n1. educations - 教育\\n2. educational - 教育的\\n3. educationally - 教育地\\n4. educative - 有教育意义的\\n5. educator - 教育者\\n\\n希望这些信息对您有帮助！如果您有任何其他问题或需要进一步帮助，请随时告诉我。'"
      ]
     },
     "execution_count": 30,
     "metadata": {},
     "output_type": "execute_result"
    }
   ],
   "execution_count": 30
  },
  {
   "metadata": {},
   "cell_type": "code",
   "outputs": [],
   "execution_count": null,
   "source": "",
   "id": "a2212889b1c037ec"
  }
 ],
 "metadata": {
  "kernelspec": {
   "display_name": "Python 3 (ipykernel)",
   "language": "python",
   "name": "python3"
  },
  "language_info": {
   "codemirror_mode": {
    "name": "ipython",
    "version": 3
   },
   "file_extension": ".py",
   "mimetype": "text/x-python",
   "name": "python",
   "nbconvert_exporter": "python",
   "pygments_lexer": "ipython3",
   "version": "3.10.14"
  }
 },
 "nbformat": 4,
 "nbformat_minor": 5
}
