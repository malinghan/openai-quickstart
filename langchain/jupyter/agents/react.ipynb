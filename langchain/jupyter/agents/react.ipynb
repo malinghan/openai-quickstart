{
 "cells": [
  {
   "cell_type": "markdown",
   "id": "ce5e76a5-222b-408d-b90c-19a801432e66",
   "metadata": {},
   "source": [
    "# LangChain 核心模块 Agent - ReAct\n",
    "\n",
    "ReAct 核心思想是 推理+操作，本示例以` Google Search` 和 `LLM Math` 作为可选操作集合（toolkits），实现 ReAct 功能。\n",
    "\n",
    "以下`SERPAPI_API_KEY`仅为示例，请访问 https://serpapi.com 注册账号并替换为自己的 `API_KEY`（每月100次免费调用）"
   ]
  },
  {
   "cell_type": "code",
   "id": "cd59da96-dda8-42c8-9c82-8460cf3aa75d",
   "metadata": {
    "ExecuteTime": {
     "end_time": "2024-08-21T14:51:45.772453Z",
     "start_time": "2024-08-21T14:51:45.765711Z"
    }
   },
   "source": [
    "import os\n",
    "\n",
    "# 更换为自己的 Serp API KEY\n",
    "os.environ[\"SERPAPI_API_KEY\"] = \"404001578e14b5b0228dea0c19f1882390ba8652c88d2342cea9e4f14a45c7f6\""
   ],
   "outputs": [],
   "execution_count": 13
  },
  {
   "cell_type": "code",
   "id": "d03a5086-d453-44f2-898b-0fecb746d0c0",
   "metadata": {
    "ExecuteTime": {
     "end_time": "2024-08-21T14:51:49.538325Z",
     "start_time": "2024-08-21T14:51:49.415289Z"
    }
   },
   "source": [
    "from langchain_openai import OpenAI\n",
    "\n",
    "llm = OpenAI(temperature=0, api_key='sk-E0y9LTOvDNUAiMvy2h_bFVEmM2qwIL2KERn_Gh8QpMT3BlbkFJdkm7yZShaZQR-0oAPgYo6r_EEL6PYLt1Qar-McvTsA')"
   ],
   "outputs": [],
   "execution_count": 14
  },
  {
   "metadata": {
    "ExecuteTime": {
     "end_time": "2024-08-21T14:51:55.250672Z",
     "start_time": "2024-08-21T14:51:53.567865Z"
    }
   },
   "cell_type": "code",
   "source": "!pip install numexpr",
   "id": "fa8a877c26faaa85",
   "outputs": [
    {
     "name": "stdout",
     "output_type": "stream",
     "text": [
      "Requirement already satisfied: numexpr in /opt/anaconda3/envs/myenv/lib/python3.10/site-packages (2.10.1)\r\n",
      "Requirement already satisfied: numpy>=1.23.0 in /opt/anaconda3/envs/myenv/lib/python3.10/site-packages (from numexpr) (1.26.4)\r\n"
     ]
    }
   ],
   "execution_count": 15
  },
  {
   "cell_type": "code",
   "id": "9e7e7202-625a-4cec-999a-321a40115792",
   "metadata": {
    "ExecuteTime": {
     "end_time": "2024-08-21T14:51:56.106137Z",
     "start_time": "2024-08-21T14:51:56.097106Z"
    }
   },
   "source": [
    "from langchain.agents import load_tools\n",
    "from langchain.agents import initialize_agent\n",
    "from langchain.agents import AgentType\n",
    "\n",
    "#加载 LangChain 内置的 Tools\n",
    "tools = load_tools([\"serpapi\", \"llm-math\"], llm=llm)"
   ],
   "outputs": [],
   "execution_count": 16
  },
  {
   "cell_type": "markdown",
   "id": "d89d569f-5313-42f3-8f1a-ea45fb1ea035",
   "metadata": {},
   "source": [
    "### 使用语言模型（GPT-3）"
   ]
  },
  {
   "cell_type": "code",
   "id": "70af3538-18c4-4c64-99a7-96b32038d31b",
   "metadata": {
    "ExecuteTime": {
     "end_time": "2024-08-21T14:51:58.000223Z",
     "start_time": "2024-08-21T14:51:57.994779Z"
    }
   },
   "source": [
    "# 实例化 ZERO_SHOT_REACT Agent\n",
    "agent = initialize_agent(tools, llm, agent=AgentType.ZERO_SHOT_REACT_DESCRIPTION, verbose=True)"
   ],
   "outputs": [],
   "execution_count": 17
  },
  {
   "cell_type": "code",
   "id": "484bba88-885b-4630-a9a9-b2ff6241df83",
   "metadata": {
    "ExecuteTime": {
     "end_time": "2024-08-21T14:52:06.116591Z",
     "start_time": "2024-08-21T14:51:59.335292Z"
    }
   },
   "source": [
    "agent.run(\"谁是莱昂纳多·迪卡普里奥的女朋友？她现在年龄的0.43次方是多少?\")"
   ],
   "outputs": [
    {
     "name": "stdout",
     "output_type": "stream",
     "text": [
      "\n",
      "\n",
      "\u001B[1m> Entering new AgentExecutor chain...\u001B[0m\n",
      "\u001B[32;1m\u001B[1;3m I should use the search engine to find information about Leonardo DiCaprio's girlfriend.\n",
      "Action: Search\n",
      "Action Input: \"Leonardo DiCaprio girlfriend\"\u001B[0m\n",
      "Observation: \u001B[36;1m\u001B[1;3m[\"New rumors started about Ceretti this summer, when she was seen on a yacht with DiCaprio and other models Meghan Roche and Imaan Hammam. Here's ...\", 'Leonardo DiCaprio and girlfriend Vittoria Ceretti were spotted together on a yacht on Aug. 1 off the coast of Sardinia, Italy, ...', 'Leonardo DiCaprio rumored to have a new girlfriend. She is 19 and was born in 2004. Leo is almost 50.', 'In September 2022, DiCaprio and longtime girlfriend Camila Morrone called it quits after four years together. She was 25 at the time; he was 47.', 'How did he end up with his girlfriend Nina Agdal? Leo is 48 (born Nov. 1974) ...', 'Meredith writes, “Leonardo DiCaprio is rumored to be dating a 19-year-old model named Eden Polani, proving once again that this infamous Reddit ...', 'Leonardo Di Caprio and his girlfriend, the Italian Model Vittoria Ceretti soak up the sun.', \"28-year-old British-Indian model Neelam Gill is reportedly Leonardo's new girlfriend. Yes, she is over 25 but this doesn't eliminate the pattern ...\", 'Leonardo DiCaprio and girlfriend Vittoria Ceretti were spotted out in L.A., and she was sporting what might be an engagement ring.']\u001B[0m\n",
      "Thought:\u001B[32;1m\u001B[1;3m Now I need to use the calculator to find the answer to the second part of the question.\n",
      "Action: Calculator\n",
      "Action Input: 0.43 ** 19\u001B[0m\n",
      "Observation: \u001B[33;1m\u001B[1;3mAnswer: 1.0861771343660413e-07\u001B[0m\n",
      "Thought:\u001B[32;1m\u001B[1;3m I now know the final answer.\n",
      "Final Answer: 1.0861771343660413e-07\u001B[0m\n",
      "\n",
      "\u001B[1m> Finished chain.\u001B[0m\n"
     ]
    },
    {
     "data": {
      "text/plain": [
       "'1.0861771343660413e-07'"
      ]
     },
     "execution_count": 18,
     "metadata": {},
     "output_type": "execute_result"
    }
   ],
   "execution_count": 18
  },
  {
   "cell_type": "markdown",
   "id": "b816038d-6f3a-47cb-b614-e432db8c1883",
   "metadata": {},
   "source": [
    "### 使用聊天模型（GPT-4）"
   ]
  },
  {
   "cell_type": "code",
   "id": "448c877f-577b-4277-a155-51223dc3d949",
   "metadata": {
    "ExecuteTime": {
     "end_time": "2024-08-21T14:53:24.450379Z",
     "start_time": "2024-08-21T14:52:48.690150Z"
    }
   },
   "source": [
    "from langchain_openai import ChatOpenAI\n",
    "\n",
    "chat_model = ChatOpenAI(model=\"gpt-4-1106-preview\", temperature=0, api_key='sk-E0y9LTOvDNUAiMvy2h_bFVEmM2qwIL2KERn_Gh8QpMT3BlbkFJdkm7yZShaZQR-0oAPgYo6r_EEL6PYLt1Qar-McvTsA')\n",
    "agent = initialize_agent(tools, chat_model, agent=AgentType.CHAT_ZERO_SHOT_REACT_DESCRIPTION, verbose=True)\n",
    "agent.run(\"谁是莱昂纳多·迪卡普里奥的女朋友？她现在年龄的0.43次方是多少?\")"
   ],
   "outputs": [
    {
     "name": "stdout",
     "output_type": "stream",
     "text": [
      "\n",
      "\n",
      "\u001B[1m> Entering new AgentExecutor chain...\u001B[0m\n",
      "\u001B[32;1m\u001B[1;3mQuestion: 谁是莱昂纳多·迪卡普里奥的女朋友？\n",
      "Thought: 首先，我需要找出莱昂纳多·迪卡普里奥当前的女朋友是谁。这个信息可能会随时间而变化，所以我需要使用搜索工具来获取最新的信息。\n",
      "Action:\n",
      "```json\n",
      "{\n",
      "  \"action\": \"Search\",\n",
      "  \"action_input\": \"莱昂纳多·迪卡普里奥 当前女朋友 2023\"\n",
      "}\n",
      "```\n",
      "\u001B[0m\n",
      "Observation: \u001B[36;1m\u001B[1;3m['莱昂纳多·迪卡普里奥(Leonardo DiCaprio) 和梅根·罗奇(Meghan Roche) 在看到豪华游艇后，否认“不，我们没有订婚”。', '莱昂纳多·迪卡普里奥通常只和25岁以下的女孩约会。 虽然已经49岁了，但莱昂纳多·迪卡普里奥仍然“收割”了年轻漂亮的女朋友。 这位演员的新女友不仅漂亮 ...', '49岁的莱昂纳多·迪卡普里奥，这位被粉丝亲切称为“小李子”的好莱坞巨星，近日和26岁的女友Vittoria Ceretti（维多利亚·切蕾蒂）在洛杉矶被拍到牵手逛街 ...', '25岁、超模、大长腿，几乎成为了他择偶的铁律——现年48岁的美国奥斯卡影帝“小李子”莱昂纳多·迪卡普里奥最近又被爆出新的恋情，姑娘是意大利超模维多利亚·塞 ...', '据报道，莱昂纳多·迪卡普里奥（Leonardo DiCaprio）或简称小李子和卡米拉·莫罗内（Camila Morrone）在模特年满25 岁后不到三个月就分手了。', '1993年12月两人相恋，但双方相恋不到半年就草草分手，以至于也留下双方只是朋友，不曾相恋的传言。据悉，分手之后凯特·摩丝爱上了正处于演艺事业巅峰期的 ...', '虽然该节目只是短暂的播出过，但据报道，莱昂纳多在出演时遇到了演员托比·马奎尔（蜘蛛侠一代演员），从那以后两人一直是好朋友。 1991年，莱昂纳多在 ...', '·拉法莉的怀抱。她在一场音乐会上认识了莱昂纳多·迪卡普里奥，他们很快就成为了情侣。他们还是莱昂纳多·迪卡普里奥一样的恋爱风格，甜蜜又高调，甚…', '莱昂纳多·威廉·迪卡普里奥（英语：Leonardo Wilhelm DiCaprio，1974年11月11日—）是一位美国男演员、电影制片人兼环保概念的推动者。迪卡普里奥于1990年代开始拍广告， ...', '私生活极度低调的他，除了身边换不停的超模女友，几乎看不到其他新闻，今年48岁的他，据说交往过60多个女朋友，重点是年龄都在25岁以下，个个拥有超模 ...']\u001B[0m\n",
      "Thought:\u001B[32;1m\u001B[1;3m根据搜索结果，莱昂纳多·迪卡普里奥最近和26岁的女友Vittoria Ceretti（维多利亚·切蕾蒂）在洛杉矶被拍到牵手逛街。因此，我们可以假设维多利亚·切蕾蒂是他当前的女朋友。\n",
      "\n",
      "现在，我需要计算维多利亚·切蕾蒂年龄的0.43次方是多少。\n",
      "\n",
      "Action:\n",
      "```json\n",
      "{\n",
      "  \"action\": \"Calculator\",\n",
      "  \"action_input\": {\n",
      "    \"expression\": \"26 ** 0.43\"\n",
      "  }\n",
      "}\n",
      "```\n",
      "\n",
      "\u001B[0m\n",
      "Observation: \u001B[33;1m\u001B[1;3mAnswer: 4.059182145592686\u001B[0m\n",
      "Thought:\u001B[32;1m\u001B[1;3mI now know the final answer to the question about the age of Leonardo DiCaprio's girlfriend raised to the power of 0.43.\n",
      "\n",
      "Final Answer: 维多利亚·切蕾蒂年龄的0.43次方约为4.06。\u001B[0m\n",
      "\n",
      "\u001B[1m> Finished chain.\u001B[0m\n"
     ]
    },
    {
     "data": {
      "text/plain": [
       "'维多利亚·切蕾蒂年龄的0.43次方约为4.06。'"
      ]
     },
     "execution_count": 20,
     "metadata": {},
     "output_type": "execute_result"
    }
   ],
   "execution_count": 20
  },
  {
   "cell_type": "code",
   "execution_count": null,
   "id": "67f4728e-bf1f-4643-a2ee-8f8679ddc58a",
   "metadata": {},
   "outputs": [],
   "source": []
  }
 ],
 "metadata": {
  "kernelspec": {
   "display_name": "Python 3 (ipykernel)",
   "language": "python",
   "name": "python3"
  },
  "language_info": {
   "codemirror_mode": {
    "name": "ipython",
    "version": 3
   },
   "file_extension": ".py",
   "mimetype": "text/x-python",
   "name": "python",
   "nbconvert_exporter": "python",
   "pygments_lexer": "ipython3",
   "version": "3.10.14"
  }
 },
 "nbformat": 4,
 "nbformat_minor": 5
}
