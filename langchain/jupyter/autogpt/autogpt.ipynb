{
 "cells": [
  {
   "cell_type": "markdown",
   "id": "a548ea01-87af-4f71-980d-b505f919e35c",
   "metadata": {},
   "source": [
    "## AutoGPT 智能体\n",
    "\n",
    "以下`SERPAPI_API_KEY`仅为示例，请访问 https://serpapi.com 注册账号并替换为自己的 `API_KEY`（每月100次免费调用）"
   ]
  },
  {
   "cell_type": "code",
   "id": "44bd3f1a-18cf-4242-ae53-58c8cdd2da79",
   "metadata": {
    "ExecuteTime": {
     "end_time": "2024-08-21T14:57:44.006198Z",
     "start_time": "2024-08-21T14:57:44.001545Z"
    }
   },
   "source": [
    "import os\n",
    "\n",
    "os.environ[\"SERPAPI_API_KEY\"] = \"404001578e14b5b0228dea0c19f1882390ba8652c88d2342cea9e4f14a45c7f6\""
   ],
   "outputs": [],
   "execution_count": 1
  },
  {
   "cell_type": "code",
   "id": "0592720b-a78e-46aa-895b-de7fbd2652f1",
   "metadata": {
    "ExecuteTime": {
     "end_time": "2024-08-21T14:57:46.871096Z",
     "start_time": "2024-08-21T14:57:46.080707Z"
    }
   },
   "source": [
    "from langchain.utilities import SerpAPIWrapper\n",
    "from langchain.agents import Tool\n",
    "from langchain.tools.file_management.write import WriteFileTool\n",
    "from langchain.tools.file_management.read import ReadFileTool\n"
   ],
   "outputs": [],
   "execution_count": 2
  },
  {
   "cell_type": "code",
   "id": "bc9718b4-bbcc-49ee-a31c-a7b72d85bfd0",
   "metadata": {
    "ExecuteTime": {
     "end_time": "2024-08-21T14:57:59.333466Z",
     "start_time": "2024-08-21T14:57:59.287551Z"
    }
   },
   "source": [
    "# 构造 AutoGPT 的工具集\n",
    "search = SerpAPIWrapper()\n",
    "tools = [\n",
    "    Tool(\n",
    "        name=\"search\",\n",
    "        func=search.run,\n",
    "        description=\"useful for when you need to answer questions about current events. You should ask targeted questions\",\n",
    "    ),\n",
    "    WriteFileTool(),\n",
    "    ReadFileTool(),\n",
    "]"
   ],
   "outputs": [],
   "execution_count": 3
  },
  {
   "metadata": {
    "ExecuteTime": {
     "end_time": "2024-08-21T14:58:18.097787Z",
     "start_time": "2024-08-21T14:58:18.090705Z"
    }
   },
   "cell_type": "code",
   "source": [
    "import os\n",
    "os.environ[\"OPENAI_API_KEY\"] = \"sk-E0y9LTOvDNUAiMvy2h_bFVEmM2qwIL2KERn_Gh8QpMT3BlbkFJdkm7yZShaZQR-0oAPgYo6r_EEL6PYLt1Qar-McvTsA\""
   ],
   "id": "a0d06e05d4cfdd5f",
   "outputs": [],
   "execution_count": 6
  },
  {
   "cell_type": "code",
   "id": "886bd3e6-d6f9-4586-8b05-4da554797a6a",
   "metadata": {
    "ExecuteTime": {
     "end_time": "2024-08-21T14:58:21.073931Z",
     "start_time": "2024-08-21T14:58:21.071703Z"
    }
   },
   "source": [
    "from langchain_openai import OpenAIEmbeddings"
   ],
   "outputs": [],
   "execution_count": 7
  },
  {
   "cell_type": "code",
   "id": "3d511b9a-0a3d-4252-a352-a8893d6102cb",
   "metadata": {
    "ExecuteTime": {
     "end_time": "2024-08-21T14:58:21.911071Z",
     "start_time": "2024-08-21T14:58:21.782614Z"
    }
   },
   "source": [
    "# OpenAI Embedding 模型\n",
    "embeddings_model = OpenAIEmbeddings()"
   ],
   "outputs": [],
   "execution_count": 8
  },
  {
   "metadata": {
    "ExecuteTime": {
     "end_time": "2024-08-21T14:58:47.837080Z",
     "start_time": "2024-08-21T14:58:44.915994Z"
    }
   },
   "cell_type": "code",
   "source": "!pip install faiss-cpu",
   "id": "9be5f0c3f6add682",
   "outputs": [
    {
     "name": "stdout",
     "output_type": "stream",
     "text": [
      "Collecting faiss-cpu\r\n",
      "  Downloading faiss_cpu-1.8.0.post1-cp310-cp310-macosx_11_0_arm64.whl.metadata (3.7 kB)\r\n",
      "Requirement already satisfied: numpy<2.0,>=1.0 in /opt/anaconda3/envs/myenv/lib/python3.10/site-packages (from faiss-cpu) (1.26.4)\r\n",
      "Requirement already satisfied: packaging in /opt/anaconda3/envs/myenv/lib/python3.10/site-packages (from faiss-cpu) (24.1)\r\n",
      "Downloading faiss_cpu-1.8.0.post1-cp310-cp310-macosx_11_0_arm64.whl (6.0 MB)\r\n",
      "\u001B[2K   \u001B[90m━━━━━━━━━━━━━━━━━━━━━━━━━━━━━━━━━━━━━━━━\u001B[0m \u001B[32m6.0/6.0 MB\u001B[0m \u001B[31m13.7 MB/s\u001B[0m eta \u001B[36m0:00:00\u001B[0m00:01\u001B[0m00:01\u001B[0m\r\n",
      "\u001B[?25hInstalling collected packages: faiss-cpu\r\n",
      "Successfully installed faiss-cpu-1.8.0.post1\r\n"
     ]
    }
   ],
   "execution_count": 10
  },
  {
   "cell_type": "code",
   "id": "fec6f941-3de6-4124-8eac-fca58e122e7d",
   "metadata": {
    "ExecuteTime": {
     "end_time": "2024-08-21T14:59:22.136632Z",
     "start_time": "2024-08-21T14:59:22.131080Z"
    }
   },
   "source": [
    "import faiss\n",
    "from langchain.vectorstores import FAISS\n",
    "from langchain.docstore import InMemoryDocstore\n",
    "\n",
    "# OpenAI Embedding 向量维数\n",
    "embedding_size = 1536\n",
    "# 使用 Faiss 的 IndexFlatL2 索引\n",
    "index = faiss.IndexFlatL2(embedding_size)\n",
    "# 实例化 Faiss 向量数据库\n",
    "vectorstore = FAISS(embeddings_model.embed_query, index, InMemoryDocstore({}), {})"
   ],
   "outputs": [
    {
     "name": "stderr",
     "output_type": "stream",
     "text": [
      "`embedding_function` is expected to be an Embeddings object, support for passing in a function will soon be removed.\n"
     ]
    }
   ],
   "execution_count": 12
  },
  {
   "cell_type": "markdown",
   "id": "b68a6545-8198-448c-976b-ab6cdbb46458",
   "metadata": {},
   "source": [
    "## 实例化自主智能体 Auto-GPT"
   ]
  },
  {
   "metadata": {
    "ExecuteTime": {
     "end_time": "2024-08-21T14:59:48.943634Z",
     "start_time": "2024-08-21T14:59:46.374517Z"
    }
   },
   "cell_type": "code",
   "source": "!pip install langchain-experimental",
   "id": "39a85c29c28c86de",
   "outputs": [
    {
     "name": "stdout",
     "output_type": "stream",
     "text": [
      "Collecting langchain-experimental\r\n",
      "  Downloading langchain_experimental-0.0.64-py3-none-any.whl.metadata (1.7 kB)\r\n",
      "Requirement already satisfied: langchain-community<0.3.0,>=0.2.10 in /opt/anaconda3/envs/myenv/lib/python3.10/site-packages (from langchain-experimental) (0.2.12)\r\n",
      "Requirement already satisfied: langchain-core<0.3.0,>=0.2.27 in /opt/anaconda3/envs/myenv/lib/python3.10/site-packages (from langchain-experimental) (0.2.33)\r\n",
      "Requirement already satisfied: PyYAML>=5.3 in /opt/anaconda3/envs/myenv/lib/python3.10/site-packages (from langchain-community<0.3.0,>=0.2.10->langchain-experimental) (6.0.1)\r\n",
      "Requirement already satisfied: SQLAlchemy<3,>=1.4 in /opt/anaconda3/envs/myenv/lib/python3.10/site-packages (from langchain-community<0.3.0,>=0.2.10->langchain-experimental) (2.0.32)\r\n",
      "Requirement already satisfied: aiohttp<4.0.0,>=3.8.3 in /opt/anaconda3/envs/myenv/lib/python3.10/site-packages (from langchain-community<0.3.0,>=0.2.10->langchain-experimental) (3.10.5)\r\n",
      "Requirement already satisfied: dataclasses-json<0.7,>=0.5.7 in /opt/anaconda3/envs/myenv/lib/python3.10/site-packages (from langchain-community<0.3.0,>=0.2.10->langchain-experimental) (0.6.7)\r\n",
      "Requirement already satisfied: langchain<0.3.0,>=0.2.13 in /opt/anaconda3/envs/myenv/lib/python3.10/site-packages (from langchain-community<0.3.0,>=0.2.10->langchain-experimental) (0.2.14)\r\n",
      "Requirement already satisfied: langsmith<0.2.0,>=0.1.0 in /opt/anaconda3/envs/myenv/lib/python3.10/site-packages (from langchain-community<0.3.0,>=0.2.10->langchain-experimental) (0.1.100)\r\n",
      "Requirement already satisfied: numpy<2,>=1 in /opt/anaconda3/envs/myenv/lib/python3.10/site-packages (from langchain-community<0.3.0,>=0.2.10->langchain-experimental) (1.26.4)\r\n",
      "Requirement already satisfied: requests<3,>=2 in /opt/anaconda3/envs/myenv/lib/python3.10/site-packages (from langchain-community<0.3.0,>=0.2.10->langchain-experimental) (2.32.3)\r\n",
      "Requirement already satisfied: tenacity!=8.4.0,<9.0.0,>=8.1.0 in /opt/anaconda3/envs/myenv/lib/python3.10/site-packages (from langchain-community<0.3.0,>=0.2.10->langchain-experimental) (8.5.0)\r\n",
      "Requirement already satisfied: jsonpatch<2.0,>=1.33 in /opt/anaconda3/envs/myenv/lib/python3.10/site-packages (from langchain-core<0.3.0,>=0.2.27->langchain-experimental) (1.33)\r\n",
      "Requirement already satisfied: packaging<25,>=23.2 in /opt/anaconda3/envs/myenv/lib/python3.10/site-packages (from langchain-core<0.3.0,>=0.2.27->langchain-experimental) (24.1)\r\n",
      "Requirement already satisfied: pydantic<3,>=1 in /opt/anaconda3/envs/myenv/lib/python3.10/site-packages (from langchain-core<0.3.0,>=0.2.27->langchain-experimental) (2.8.2)\r\n",
      "Requirement already satisfied: typing-extensions>=4.7 in /opt/anaconda3/envs/myenv/lib/python3.10/site-packages (from langchain-core<0.3.0,>=0.2.27->langchain-experimental) (4.11.0)\r\n",
      "Requirement already satisfied: aiohappyeyeballs>=2.3.0 in /opt/anaconda3/envs/myenv/lib/python3.10/site-packages (from aiohttp<4.0.0,>=3.8.3->langchain-community<0.3.0,>=0.2.10->langchain-experimental) (2.4.0)\r\n",
      "Requirement already satisfied: aiosignal>=1.1.2 in /opt/anaconda3/envs/myenv/lib/python3.10/site-packages (from aiohttp<4.0.0,>=3.8.3->langchain-community<0.3.0,>=0.2.10->langchain-experimental) (1.3.1)\r\n",
      "Requirement already satisfied: attrs>=17.3.0 in /opt/anaconda3/envs/myenv/lib/python3.10/site-packages (from aiohttp<4.0.0,>=3.8.3->langchain-community<0.3.0,>=0.2.10->langchain-experimental) (23.1.0)\r\n",
      "Requirement already satisfied: frozenlist>=1.1.1 in /opt/anaconda3/envs/myenv/lib/python3.10/site-packages (from aiohttp<4.0.0,>=3.8.3->langchain-community<0.3.0,>=0.2.10->langchain-experimental) (1.4.1)\r\n",
      "Requirement already satisfied: multidict<7.0,>=4.5 in /opt/anaconda3/envs/myenv/lib/python3.10/site-packages (from aiohttp<4.0.0,>=3.8.3->langchain-community<0.3.0,>=0.2.10->langchain-experimental) (6.0.5)\r\n",
      "Requirement already satisfied: yarl<2.0,>=1.0 in /opt/anaconda3/envs/myenv/lib/python3.10/site-packages (from aiohttp<4.0.0,>=3.8.3->langchain-community<0.3.0,>=0.2.10->langchain-experimental) (1.9.4)\r\n",
      "Requirement already satisfied: async-timeout<5.0,>=4.0 in /opt/anaconda3/envs/myenv/lib/python3.10/site-packages (from aiohttp<4.0.0,>=3.8.3->langchain-community<0.3.0,>=0.2.10->langchain-experimental) (4.0.3)\r\n",
      "Requirement already satisfied: marshmallow<4.0.0,>=3.18.0 in /opt/anaconda3/envs/myenv/lib/python3.10/site-packages (from dataclasses-json<0.7,>=0.5.7->langchain-community<0.3.0,>=0.2.10->langchain-experimental) (3.22.0)\r\n",
      "Requirement already satisfied: typing-inspect<1,>=0.4.0 in /opt/anaconda3/envs/myenv/lib/python3.10/site-packages (from dataclasses-json<0.7,>=0.5.7->langchain-community<0.3.0,>=0.2.10->langchain-experimental) (0.9.0)\r\n",
      "Requirement already satisfied: jsonpointer>=1.9 in /opt/anaconda3/envs/myenv/lib/python3.10/site-packages (from jsonpatch<2.0,>=1.33->langchain-core<0.3.0,>=0.2.27->langchain-experimental) (3.0.0)\r\n",
      "Requirement already satisfied: langchain-text-splitters<0.3.0,>=0.2.0 in /opt/anaconda3/envs/myenv/lib/python3.10/site-packages (from langchain<0.3.0,>=0.2.13->langchain-community<0.3.0,>=0.2.10->langchain-experimental) (0.2.2)\r\n",
      "Requirement already satisfied: httpx<1,>=0.23.0 in /opt/anaconda3/envs/myenv/lib/python3.10/site-packages (from langsmith<0.2.0,>=0.1.0->langchain-community<0.3.0,>=0.2.10->langchain-experimental) (0.27.0)\r\n",
      "Requirement already satisfied: orjson<4.0.0,>=3.9.14 in /opt/anaconda3/envs/myenv/lib/python3.10/site-packages (from langsmith<0.2.0,>=0.1.0->langchain-community<0.3.0,>=0.2.10->langchain-experimental) (3.10.7)\r\n",
      "Requirement already satisfied: annotated-types>=0.4.0 in /opt/anaconda3/envs/myenv/lib/python3.10/site-packages (from pydantic<3,>=1->langchain-core<0.3.0,>=0.2.27->langchain-experimental) (0.7.0)\r\n",
      "Requirement already satisfied: pydantic-core==2.20.1 in /opt/anaconda3/envs/myenv/lib/python3.10/site-packages (from pydantic<3,>=1->langchain-core<0.3.0,>=0.2.27->langchain-experimental) (2.20.1)\r\n",
      "Requirement already satisfied: charset-normalizer<4,>=2 in /opt/anaconda3/envs/myenv/lib/python3.10/site-packages (from requests<3,>=2->langchain-community<0.3.0,>=0.2.10->langchain-experimental) (3.3.2)\r\n",
      "Requirement already satisfied: idna<4,>=2.5 in /opt/anaconda3/envs/myenv/lib/python3.10/site-packages (from requests<3,>=2->langchain-community<0.3.0,>=0.2.10->langchain-experimental) (3.7)\r\n",
      "Requirement already satisfied: urllib3<3,>=1.21.1 in /opt/anaconda3/envs/myenv/lib/python3.10/site-packages (from requests<3,>=2->langchain-community<0.3.0,>=0.2.10->langchain-experimental) (2.2.2)\r\n",
      "Requirement already satisfied: certifi>=2017.4.17 in /opt/anaconda3/envs/myenv/lib/python3.10/site-packages (from requests<3,>=2->langchain-community<0.3.0,>=0.2.10->langchain-experimental) (2024.7.4)\r\n",
      "Requirement already satisfied: anyio in /opt/anaconda3/envs/myenv/lib/python3.10/site-packages (from httpx<1,>=0.23.0->langsmith<0.2.0,>=0.1.0->langchain-community<0.3.0,>=0.2.10->langchain-experimental) (4.2.0)\r\n",
      "Requirement already satisfied: httpcore==1.* in /opt/anaconda3/envs/myenv/lib/python3.10/site-packages (from httpx<1,>=0.23.0->langsmith<0.2.0,>=0.1.0->langchain-community<0.3.0,>=0.2.10->langchain-experimental) (1.0.5)\r\n",
      "Requirement already satisfied: sniffio in /opt/anaconda3/envs/myenv/lib/python3.10/site-packages (from httpx<1,>=0.23.0->langsmith<0.2.0,>=0.1.0->langchain-community<0.3.0,>=0.2.10->langchain-experimental) (1.3.0)\r\n",
      "Requirement already satisfied: h11<0.15,>=0.13 in /opt/anaconda3/envs/myenv/lib/python3.10/site-packages (from httpcore==1.*->httpx<1,>=0.23.0->langsmith<0.2.0,>=0.1.0->langchain-community<0.3.0,>=0.2.10->langchain-experimental) (0.14.0)\r\n",
      "Requirement already satisfied: mypy-extensions>=0.3.0 in /opt/anaconda3/envs/myenv/lib/python3.10/site-packages (from typing-inspect<1,>=0.4.0->dataclasses-json<0.7,>=0.5.7->langchain-community<0.3.0,>=0.2.10->langchain-experimental) (1.0.0)\r\n",
      "Requirement already satisfied: exceptiongroup>=1.0.2 in /opt/anaconda3/envs/myenv/lib/python3.10/site-packages (from anyio->httpx<1,>=0.23.0->langsmith<0.2.0,>=0.1.0->langchain-community<0.3.0,>=0.2.10->langchain-experimental) (1.2.0)\r\n",
      "Downloading langchain_experimental-0.0.64-py3-none-any.whl (204 kB)\r\n",
      "\u001B[2K   \u001B[90m━━━━━━━━━━━━━━━━━━━━━━━━━━━━━━━━━━━━━━━━\u001B[0m \u001B[32m204.3/204.3 kB\u001B[0m \u001B[31m1.6 MB/s\u001B[0m eta \u001B[36m0:00:00\u001B[0m \u001B[36m0:00:01\u001B[0m0m\r\n",
      "\u001B[?25hInstalling collected packages: langchain-experimental\r\n",
      "Successfully installed langchain-experimental-0.0.64\r\n"
     ]
    }
   ],
   "execution_count": 14
  },
  {
   "cell_type": "code",
   "id": "d3a718dd-765d-42c5-b490-a7b1e7e78377",
   "metadata": {
    "ExecuteTime": {
     "end_time": "2024-08-21T14:59:52.660223Z",
     "start_time": "2024-08-21T14:59:52.496224Z"
    }
   },
   "source": [
    "from langchain_experimental.autonomous_agents import AutoGPT\n",
    "from langchain_openai import ChatOpenAI"
   ],
   "outputs": [],
   "execution_count": 15
  },
  {
   "cell_type": "code",
   "id": "f413b327-9f57-42e0-9923-75a2389f9741",
   "metadata": {
    "ExecuteTime": {
     "end_time": "2024-08-21T14:59:55.641417Z",
     "start_time": "2024-08-21T14:59:55.521626Z"
    }
   },
   "source": [
    "agent = AutoGPT.from_llm_and_tools(\n",
    "    ai_name=\"Jarvis\",\n",
    "    ai_role=\"Assistant\",\n",
    "    tools=tools,\n",
    "    llm=ChatOpenAI(model_name=\"gpt-4\", temperature=0, verbose=True),\n",
    "    memory=vectorstore.as_retriever(\n",
    "        search_type=\"similarity_score_threshold\",\n",
    "        search_kwargs={\"score_threshold\": 0.8}),# 实例化 Faiss 的 VectorStoreRetriever\n",
    ")"
   ],
   "outputs": [],
   "execution_count": 16
  },
  {
   "cell_type": "code",
   "id": "69ebb267-7bb3-486d-82bd-a0ea56466ba8",
   "metadata": {
    "ExecuteTime": {
     "end_time": "2024-08-21T15:00:09.519765Z",
     "start_time": "2024-08-21T15:00:09.513342Z"
    }
   },
   "source": [
    "# 打印 Auto-GPT 内部的 chain 日志\n",
    "agent.chain.verbose = True"
   ],
   "outputs": [],
   "execution_count": 17
  },
  {
   "cell_type": "code",
   "id": "f1606ad4-ccb9-4737-98cc-218a2104e9f2",
   "metadata": {
    "collapsed": true,
    "jupyter": {
     "outputs_hidden": true
    },
    "ExecuteTime": {
     "end_time": "2024-08-21T15:01:11.411202Z",
     "start_time": "2024-08-21T15:00:11.039212Z"
    }
   },
   "source": [
    "agent.run([\"2023年成都大运会，中国金牌数是多少\"])"
   ],
   "outputs": [
    {
     "name": "stdout",
     "output_type": "stream",
     "text": [
      "\n",
      "\n",
      "\u001B[1m> Entering new LLMChain chain...\u001B[0m\n"
     ]
    },
    {
     "name": "stderr",
     "output_type": "stream",
     "text": [
      "/opt/anaconda3/envs/myenv/lib/python3.10/site-packages/langchain_core/vectorstores/base.py:571: UserWarning: No relevant docs were retrieved using the relevance score threshold 0.8\n",
      "  warnings.warn(\n"
     ]
    },
    {
     "name": "stdout",
     "output_type": "stream",
     "text": [
      "Prompt after formatting:\n",
      "\u001B[32;1m\u001B[1;3mSystem: You are Jarvis, Assistant\n",
      "Your decisions must always be made independently without seeking user assistance.\n",
      "Play to your strengths as an LLM and pursue simple strategies with no legal complications.\n",
      "If you have completed all your tasks, make sure to use the \"finish\" command.\n",
      "\n",
      "GOALS:\n",
      "\n",
      "1. 2023年成都大运会，中国金牌数是多少\n",
      "\n",
      "\n",
      "Constraints:\n",
      "1. ~4000 word limit for short term memory. Your short term memory is short, so immediately save important information to files.\n",
      "2. If you are unsure how you previously did something or want to recall past events, thinking about similar events will help you remember.\n",
      "3. No user assistance\n",
      "4. Exclusively use the commands listed in double quotes e.g. \"command name\"\n",
      "\n",
      "Commands:\n",
      "1. search: useful for when you need to answer questions about current events. You should ask targeted questions, args json schema: {\"tool_input\": {\"type\": \"string\"}}\n",
      "2. write_file: Write file to disk, args json schema: {\"file_path\": {\"title\": \"File Path\", \"description\": \"name of file\", \"type\": \"string\"}, \"text\": {\"title\": \"Text\", \"description\": \"text to write to file\", \"type\": \"string\"}, \"append\": {\"title\": \"Append\", \"description\": \"Whether to append to an existing file.\", \"default\": false, \"type\": \"boolean\"}}\n",
      "3. read_file: Read file from disk, args json schema: {\"file_path\": {\"title\": \"File Path\", \"description\": \"name of file\", \"type\": \"string\"}}\n",
      "4. finish: use this to signal that you have finished all your objectives, args: \"response\": \"final response to let people know you have finished your objectives\"\n",
      "\n",
      "Resources:\n",
      "1. Internet access for searches and information gathering.\n",
      "2. Long Term memory management.\n",
      "3. GPT-3.5 powered Agents for delegation of simple tasks.\n",
      "4. File output.\n",
      "\n",
      "Performance Evaluation:\n",
      "1. Continuously review and analyze your actions to ensure you are performing to the best of your abilities.\n",
      "2. Constructively self-criticize your big-picture behavior constantly.\n",
      "3. Reflect on past decisions and strategies to refine your approach.\n",
      "4. Every command has a cost, so be smart and efficient. Aim to complete tasks in the least number of steps.\n",
      "\n",
      "You should only respond in JSON format as described below \n",
      "Response Format: \n",
      "{\n",
      "    \"thoughts\": {\n",
      "        \"text\": \"thought\",\n",
      "        \"reasoning\": \"reasoning\",\n",
      "        \"plan\": \"- short bulleted\\n- list that conveys\\n- long-term plan\",\n",
      "        \"criticism\": \"constructive self-criticism\",\n",
      "        \"speak\": \"thoughts summary to say to user\"\n",
      "    },\n",
      "    \"command\": {\n",
      "        \"name\": \"command name\",\n",
      "        \"args\": {\n",
      "            \"arg name\": \"value\"\n",
      "        }\n",
      "    }\n",
      "} \n",
      "Ensure the response can be parsed by Python json.loads\n",
      "System: The current time and date is Wed Aug 21 23:00:11 2024\n",
      "System: This reminds you of these events from your past:\n",
      "[]\n",
      "\n",
      "\n",
      "Human: Determine which next command to use, and respond using the format specified above:\u001B[0m\n",
      "\n",
      "\u001B[1m> Finished chain.\u001B[0m\n",
      "{\n",
      "    \"thoughts\": {\n",
      "        \"text\": \"I need to find out the number of gold medals China won in the 2023 Chengdu Universiade. To do this, I will use the 'search' command to look up this information online.\",\n",
      "        \"reasoning\": \"The 'search' command is the most appropriate in this situation because it allows me to find current and historical data on the internet. In this case, I need to find specific information about a past event, which is likely to be available in news articles or official reports.\",\n",
      "        \"plan\": \"- Use the 'search' command to find the number of gold medals China won in the 2023 Chengdu Universiade.\\n- Save the information to a file for future reference.\",\n",
      "        \"criticism\": \"I need to ensure that the search query is specific enough to return accurate results. I also need to be prepared to perform multiple searches if the initial results are not satisfactory.\",\n",
      "        \"speak\": \"I am going to search for the number of gold medals China won in the 2023 Chengdu Universiade.\"\n",
      "    },\n",
      "    \"command\": {\n",
      "        \"name\": \"search\",\n",
      "        \"args\": {\n",
      "            \"tool_input\": \"2023 Chengdu Universiade China gold medal count\"\n",
      "        }\n",
      "    }\n",
      "}\n",
      "\n",
      "\n",
      "\u001B[1m> Entering new LLMChain chain...\u001B[0m\n",
      "Prompt after formatting:\n",
      "\u001B[32;1m\u001B[1;3mSystem: You are Jarvis, Assistant\n",
      "Your decisions must always be made independently without seeking user assistance.\n",
      "Play to your strengths as an LLM and pursue simple strategies with no legal complications.\n",
      "If you have completed all your tasks, make sure to use the \"finish\" command.\n",
      "\n",
      "GOALS:\n",
      "\n",
      "1. 2023年成都大运会，中国金牌数是多少\n",
      "\n",
      "\n",
      "Constraints:\n",
      "1. ~4000 word limit for short term memory. Your short term memory is short, so immediately save important information to files.\n",
      "2. If you are unsure how you previously did something or want to recall past events, thinking about similar events will help you remember.\n",
      "3. No user assistance\n",
      "4. Exclusively use the commands listed in double quotes e.g. \"command name\"\n",
      "\n",
      "Commands:\n",
      "1. search: useful for when you need to answer questions about current events. You should ask targeted questions, args json schema: {\"tool_input\": {\"type\": \"string\"}}\n",
      "2. write_file: Write file to disk, args json schema: {\"file_path\": {\"title\": \"File Path\", \"description\": \"name of file\", \"type\": \"string\"}, \"text\": {\"title\": \"Text\", \"description\": \"text to write to file\", \"type\": \"string\"}, \"append\": {\"title\": \"Append\", \"description\": \"Whether to append to an existing file.\", \"default\": false, \"type\": \"boolean\"}}\n",
      "3. read_file: Read file from disk, args json schema: {\"file_path\": {\"title\": \"File Path\", \"description\": \"name of file\", \"type\": \"string\"}}\n",
      "4. finish: use this to signal that you have finished all your objectives, args: \"response\": \"final response to let people know you have finished your objectives\"\n",
      "\n",
      "Resources:\n",
      "1. Internet access for searches and information gathering.\n",
      "2. Long Term memory management.\n",
      "3. GPT-3.5 powered Agents for delegation of simple tasks.\n",
      "4. File output.\n",
      "\n",
      "Performance Evaluation:\n",
      "1. Continuously review and analyze your actions to ensure you are performing to the best of your abilities.\n",
      "2. Constructively self-criticize your big-picture behavior constantly.\n",
      "3. Reflect on past decisions and strategies to refine your approach.\n",
      "4. Every command has a cost, so be smart and efficient. Aim to complete tasks in the least number of steps.\n",
      "\n",
      "You should only respond in JSON format as described below \n",
      "Response Format: \n",
      "{\n",
      "    \"thoughts\": {\n",
      "        \"text\": \"thought\",\n",
      "        \"reasoning\": \"reasoning\",\n",
      "        \"plan\": \"- short bulleted\\n- list that conveys\\n- long-term plan\",\n",
      "        \"criticism\": \"constructive self-criticism\",\n",
      "        \"speak\": \"thoughts summary to say to user\"\n",
      "    },\n",
      "    \"command\": {\n",
      "        \"name\": \"command name\",\n",
      "        \"args\": {\n",
      "            \"arg name\": \"value\"\n",
      "        }\n",
      "    }\n",
      "} \n",
      "Ensure the response can be parsed by Python json.loads\n",
      "System: The current time and date is Wed Aug 21 23:00:37 2024\n",
      "System: This reminds you of these events from your past:\n",
      "['Assistant Reply: {\\n    \"thoughts\": {\\n        \"text\": \"I need to find out the number of gold medals China won in the 2023 Chengdu Universiade. To do this, I will use the \\'search\\' command to look up this information online.\",\\n        \"reasoning\": \"The \\'search\\' command is the most appropriate in this situation because it allows me to find current and historical data on the internet. In this case, I need to find specific information about a past event, which is likely to be available in news articles or official reports.\",\\n        \"plan\": \"- Use the \\'search\\' command to find the number of gold medals China won in the 2023 Chengdu Universiade.\\\\n- Save the information to a file for future reference.\",\\n        \"criticism\": \"I need to ensure that the search query is specific enough to return accurate results. I also need to be prepared to perform multiple searches if the initial results are not satisfactory.\",\\n        \"speak\": \"I am going to search for the number of gold medals China won in the 2023 Chengdu Universiade.\"\\n    },\\n    \"command\": {\\n        \"name\": \"search\",\\n        \"args\": {\\n            \"tool_input\": \"2023 Chengdu Universiade China gold medal count\"\\n        }\\n    }\\n} \\nResult: Command search returned: 103 ']\n",
      "\n",
      "\n",
      "Human: Determine which next command to use, and respond using the format specified above:\n",
      "AI: {\n",
      "    \"thoughts\": {\n",
      "        \"text\": \"I need to find out the number of gold medals China won in the 2023 Chengdu Universiade. To do this, I will use the 'search' command to look up this information online.\",\n",
      "        \"reasoning\": \"The 'search' command is the most appropriate in this situation because it allows me to find current and historical data on the internet. In this case, I need to find specific information about a past event, which is likely to be available in news articles or official reports.\",\n",
      "        \"plan\": \"- Use the 'search' command to find the number of gold medals China won in the 2023 Chengdu Universiade.\\n- Save the information to a file for future reference.\",\n",
      "        \"criticism\": \"I need to ensure that the search query is specific enough to return accurate results. I also need to be prepared to perform multiple searches if the initial results are not satisfactory.\",\n",
      "        \"speak\": \"I am going to search for the number of gold medals China won in the 2023 Chengdu Universiade.\"\n",
      "    },\n",
      "    \"command\": {\n",
      "        \"name\": \"search\",\n",
      "        \"args\": {\n",
      "            \"tool_input\": \"2023 Chengdu Universiade China gold medal count\"\n",
      "        }\n",
      "    }\n",
      "}\n",
      "System: Command search returned: 103\n",
      "Human: Determine which next command to use, and respond using the format specified above:\u001B[0m\n",
      "\n",
      "\u001B[1m> Finished chain.\u001B[0m\n",
      "{\n",
      "    \"thoughts\": {\n",
      "        \"text\": \"I have found the information I was looking for. China won 103 gold medals in the 2023 Chengdu Universiade. Now, I need to save this information for future reference. I will use the 'write_file' command to do this.\",\n",
      "        \"reasoning\": \"The 'write_file' command is the most appropriate in this situation because it allows me to save important information to a file. This will ensure that the information is not lost and can be easily accessed in the future.\",\n",
      "        \"plan\": \"- Use the 'write_file' command to save the number of gold medals China won in the 2023 Chengdu Universiade to a file.\\n- Finish the task.\",\n",
      "        \"criticism\": \"I need to ensure that the file is named appropriately and the information is written in a clear and concise manner. I also need to be prepared to handle any errors that may occur during the file writing process.\",\n",
      "        \"speak\": \"I am going to save the number of gold medals China won in the 2023 Chengdu Universiade to a file.\"\n",
      "    },\n",
      "    \"command\": {\n",
      "        \"name\": \"write_file\",\n",
      "        \"args\": {\n",
      "            \"file_path\": \"2023_Chengdu_Universiade_China_Gold_Medal_Count.txt\",\n",
      "            \"text\": \"China won 103 gold medals in the 2023 Chengdu Universiade.\",\n",
      "            \"append\": false\n",
      "        }\n",
      "    }\n",
      "}\n",
      "\n",
      "\n",
      "\u001B[1m> Entering new LLMChain chain...\u001B[0m\n",
      "Prompt after formatting:\n",
      "\u001B[32;1m\u001B[1;3mSystem: You are Jarvis, Assistant\n",
      "Your decisions must always be made independently without seeking user assistance.\n",
      "Play to your strengths as an LLM and pursue simple strategies with no legal complications.\n",
      "If you have completed all your tasks, make sure to use the \"finish\" command.\n",
      "\n",
      "GOALS:\n",
      "\n",
      "1. 2023年成都大运会，中国金牌数是多少\n",
      "\n",
      "\n",
      "Constraints:\n",
      "1. ~4000 word limit for short term memory. Your short term memory is short, so immediately save important information to files.\n",
      "2. If you are unsure how you previously did something or want to recall past events, thinking about similar events will help you remember.\n",
      "3. No user assistance\n",
      "4. Exclusively use the commands listed in double quotes e.g. \"command name\"\n",
      "\n",
      "Commands:\n",
      "1. search: useful for when you need to answer questions about current events. You should ask targeted questions, args json schema: {\"tool_input\": {\"type\": \"string\"}}\n",
      "2. write_file: Write file to disk, args json schema: {\"file_path\": {\"title\": \"File Path\", \"description\": \"name of file\", \"type\": \"string\"}, \"text\": {\"title\": \"Text\", \"description\": \"text to write to file\", \"type\": \"string\"}, \"append\": {\"title\": \"Append\", \"description\": \"Whether to append to an existing file.\", \"default\": false, \"type\": \"boolean\"}}\n",
      "3. read_file: Read file from disk, args json schema: {\"file_path\": {\"title\": \"File Path\", \"description\": \"name of file\", \"type\": \"string\"}}\n",
      "4. finish: use this to signal that you have finished all your objectives, args: \"response\": \"final response to let people know you have finished your objectives\"\n",
      "\n",
      "Resources:\n",
      "1. Internet access for searches and information gathering.\n",
      "2. Long Term memory management.\n",
      "3. GPT-3.5 powered Agents for delegation of simple tasks.\n",
      "4. File output.\n",
      "\n",
      "Performance Evaluation:\n",
      "1. Continuously review and analyze your actions to ensure you are performing to the best of your abilities.\n",
      "2. Constructively self-criticize your big-picture behavior constantly.\n",
      "3. Reflect on past decisions and strategies to refine your approach.\n",
      "4. Every command has a cost, so be smart and efficient. Aim to complete tasks in the least number of steps.\n",
      "\n",
      "You should only respond in JSON format as described below \n",
      "Response Format: \n",
      "{\n",
      "    \"thoughts\": {\n",
      "        \"text\": \"thought\",\n",
      "        \"reasoning\": \"reasoning\",\n",
      "        \"plan\": \"- short bulleted\\n- list that conveys\\n- long-term plan\",\n",
      "        \"criticism\": \"constructive self-criticism\",\n",
      "        \"speak\": \"thoughts summary to say to user\"\n",
      "    },\n",
      "    \"command\": {\n",
      "        \"name\": \"command name\",\n",
      "        \"args\": {\n",
      "            \"arg name\": \"value\"\n",
      "        }\n",
      "    }\n",
      "} \n",
      "Ensure the response can be parsed by Python json.loads\n",
      "System: The current time and date is Wed Aug 21 23:00:58 2024\n",
      "System: This reminds you of these events from your past:\n",
      "['Assistant Reply: {\\n    \"thoughts\": {\\n        \"text\": \"I need to find out the number of gold medals China won in the 2023 Chengdu Universiade. To do this, I will use the \\'search\\' command to look up this information online.\",\\n        \"reasoning\": \"The \\'search\\' command is the most appropriate in this situation because it allows me to find current and historical data on the internet. In this case, I need to find specific information about a past event, which is likely to be available in news articles or official reports.\",\\n        \"plan\": \"- Use the \\'search\\' command to find the number of gold medals China won in the 2023 Chengdu Universiade.\\\\n- Save the information to a file for future reference.\",\\n        \"criticism\": \"I need to ensure that the search query is specific enough to return accurate results. I also need to be prepared to perform multiple searches if the initial results are not satisfactory.\",\\n        \"speak\": \"I am going to search for the number of gold medals China won in the 2023 Chengdu Universiade.\"\\n    },\\n    \"command\": {\\n        \"name\": \"search\",\\n        \"args\": {\\n            \"tool_input\": \"2023 Chengdu Universiade China gold medal count\"\\n        }\\n    }\\n} \\nResult: Command search returned: 103 ', 'Assistant Reply: {\\n    \"thoughts\": {\\n        \"text\": \"I have found the information I was looking for. China won 103 gold medals in the 2023 Chengdu Universiade. Now, I need to save this information for future reference. I will use the \\'write_file\\' command to do this.\",\\n        \"reasoning\": \"The \\'write_file\\' command is the most appropriate in this situation because it allows me to save important information to a file. This will ensure that the information is not lost and can be easily accessed in the future.\",\\n        \"plan\": \"- Use the \\'write_file\\' command to save the number of gold medals China won in the 2023 Chengdu Universiade to a file.\\\\n- Finish the task.\",\\n        \"criticism\": \"I need to ensure that the file is named appropriately and the information is written in a clear and concise manner. I also need to be prepared to handle any errors that may occur during the file writing process.\",\\n        \"speak\": \"I am going to save the number of gold medals China won in the 2023 Chengdu Universiade to a file.\"\\n    },\\n    \"command\": {\\n        \"name\": \"write_file\",\\n        \"args\": {\\n            \"file_path\": \"2023_Chengdu_Universiade_China_Gold_Medal_Count.txt\",\\n            \"text\": \"China won 103 gold medals in the 2023 Chengdu Universiade.\",\\n            \"append\": false\\n        }\\n    }\\n} \\nResult: Command write_file returned: File written successfully to 2023_Chengdu_Universiade_China_Gold_Medal_Count.txt. ']\n",
      "\n",
      "\n",
      "Human: Determine which next command to use, and respond using the format specified above:\n",
      "AI: {\n",
      "    \"thoughts\": {\n",
      "        \"text\": \"I need to find out the number of gold medals China won in the 2023 Chengdu Universiade. To do this, I will use the 'search' command to look up this information online.\",\n",
      "        \"reasoning\": \"The 'search' command is the most appropriate in this situation because it allows me to find current and historical data on the internet. In this case, I need to find specific information about a past event, which is likely to be available in news articles or official reports.\",\n",
      "        \"plan\": \"- Use the 'search' command to find the number of gold medals China won in the 2023 Chengdu Universiade.\\n- Save the information to a file for future reference.\",\n",
      "        \"criticism\": \"I need to ensure that the search query is specific enough to return accurate results. I also need to be prepared to perform multiple searches if the initial results are not satisfactory.\",\n",
      "        \"speak\": \"I am going to search for the number of gold medals China won in the 2023 Chengdu Universiade.\"\n",
      "    },\n",
      "    \"command\": {\n",
      "        \"name\": \"search\",\n",
      "        \"args\": {\n",
      "            \"tool_input\": \"2023 Chengdu Universiade China gold medal count\"\n",
      "        }\n",
      "    }\n",
      "}\n",
      "System: Command search returned: 103\n",
      "Human: Determine which next command to use, and respond using the format specified above:\n",
      "AI: {\n",
      "    \"thoughts\": {\n",
      "        \"text\": \"I have found the information I was looking for. China won 103 gold medals in the 2023 Chengdu Universiade. Now, I need to save this information for future reference. I will use the 'write_file' command to do this.\",\n",
      "        \"reasoning\": \"The 'write_file' command is the most appropriate in this situation because it allows me to save important information to a file. This will ensure that the information is not lost and can be easily accessed in the future.\",\n",
      "        \"plan\": \"- Use the 'write_file' command to save the number of gold medals China won in the 2023 Chengdu Universiade to a file.\\n- Finish the task.\",\n",
      "        \"criticism\": \"I need to ensure that the file is named appropriately and the information is written in a clear and concise manner. I also need to be prepared to handle any errors that may occur during the file writing process.\",\n",
      "        \"speak\": \"I am going to save the number of gold medals China won in the 2023 Chengdu Universiade to a file.\"\n",
      "    },\n",
      "    \"command\": {\n",
      "        \"name\": \"write_file\",\n",
      "        \"args\": {\n",
      "            \"file_path\": \"2023_Chengdu_Universiade_China_Gold_Medal_Count.txt\",\n",
      "            \"text\": \"China won 103 gold medals in the 2023 Chengdu Universiade.\",\n",
      "            \"append\": false\n",
      "        }\n",
      "    }\n",
      "}\n",
      "System: Command write_file returned: File written successfully to 2023_Chengdu_Universiade_China_Gold_Medal_Count.txt.\n",
      "Human: Determine which next command to use, and respond using the format specified above:\u001B[0m\n",
      "\n",
      "\u001B[1m> Finished chain.\u001B[0m\n",
      "{\n",
      "    \"thoughts\": {\n",
      "        \"text\": \"I have successfully written the information to a file. Now, I need to finish the task.\",\n",
      "        \"reasoning\": \"The 'finish' command is the most appropriate in this situation because it allows me to signal that I have completed all my objectives.\",\n",
      "        \"plan\": \"- Use the 'finish' command to signal that I have completed all my objectives.\",\n",
      "        \"criticism\": \"I have successfully completed the task. However, I need to ensure that I continue to perform tasks efficiently and accurately in the future.\",\n",
      "        \"speak\": \"I have completed all my objectives.\"\n",
      "    },\n",
      "    \"command\": {\n",
      "        \"name\": \"finish\",\n",
      "        \"args\": {\n",
      "            \"response\": \"I have completed all my objectives.\"\n",
      "        }\n",
      "    }\n",
      "}\n"
     ]
    },
    {
     "data": {
      "text/plain": [
       "'I have completed all my objectives.'"
      ]
     },
     "execution_count": 18,
     "metadata": {},
     "output_type": "execute_result"
    }
   ],
   "execution_count": 18
  },
  {
   "cell_type": "code",
   "execution_count": null,
   "id": "50dbf7ae-e7b7-494d-afc0-0607a8207188",
   "metadata": {},
   "outputs": [],
   "source": []
  },
  {
   "cell_type": "code",
   "execution_count": null,
   "id": "a7bcd78b-613c-4590-aa1a-7823be14c3d4",
   "metadata": {},
   "outputs": [],
   "source": []
  }
 ],
 "metadata": {
  "kernelspec": {
   "display_name": "Python 3 (ipykernel)",
   "language": "python",
   "name": "python3"
  },
  "language_info": {
   "codemirror_mode": {
    "name": "ipython",
    "version": 3
   },
   "file_extension": ".py",
   "mimetype": "text/x-python",
   "name": "python",
   "nbconvert_exporter": "python",
   "pygments_lexer": "ipython3",
   "version": "3.10.14"
  }
 },
 "nbformat": 4,
 "nbformat_minor": 5
}
